{
 "cells": [
  {
   "cell_type": "code",
   "execution_count": 22,
   "metadata": {
    "id": "P-3fZ7TYrIQL",
    "scrolled": true
   },
   "outputs": [],
   "source": [
    "# from google.colab import drive\n",
    "# drive.mount('/content/drive')\n",
    "\n",
    "import pandas as pd"
   ]
  },
  {
   "cell_type": "markdown",
   "metadata": {},
   "source": [
    "구글 코랩에서 진행"
   ]
  },
  {
   "cell_type": "markdown",
   "metadata": {
    "id": "ui2gX-NMwhaJ"
   },
   "source": [
    "### 06~23년도 csv파일 정제"
   ]
  },
  {
   "cell_type": "markdown",
   "metadata": {
    "id": "qwMK0dUIVoEs"
   },
   "source": [
    "기존 train 데이터(대치동의 14년도부터 21년도까지의 아파트 실거래가 데이터) + 대치동의 06년도부터 13년도까지의 아파트 실거래가 데이터 + 대치동과 인접한 4개 동(역삼동, 개포동, 일원동, 도곡동)의 06년도부터 23년도까지의 아파트 실거래가 데이터\n",
    "(국도교통부 실거래가 공개시스템 (http://rtdown.molit.go.kr/) 에서 다운로드 후 전처리, 하나의 파일로 병합)"
   ]
  },
  {
   "cell_type": "code",
   "execution_count": 23,
   "metadata": {
    "id": "sCaTmZm7VoEt"
   },
   "outputs": [],
   "source": [
    "# 대치동 데이터 추가\n",
    "for i in range(6, 14):\n",
    "    # 파일 경로 설정\n",
    "    file_path = f'./대치동데이터/대치{i:02}.csv'\n",
    "    new_file_path_cleaned = f\"./대치동데이터/train_dachi{i:02}.csv\"\n",
    "\n",
    "    # 데이터 읽어오기\n",
    "    data = pd.read_csv(file_path, skiprows=15,encoding='cp949')\n",
    "    train = pd.read_csv('./train.csv')\n",
    "\n",
    "    # 열 이름 변경\n",
    "    data = data.rename(columns={\n",
    "        '시군구': 'sigungu',\n",
    "        '번지': 'jibun',\n",
    "        '단지명': 'apt_name',\n",
    "        '전용면적(㎡)': 'exclusive_use_area',\n",
    "        '계약년월': 'transaction_year_month',\n",
    "        '계약일': 'transaction_day',\n",
    "        '거래금액(만원)': 'transaction_real_price',\n",
    "        '층': 'floor',\n",
    "        '건축년도': 'year_of_completion'\n",
    "    })\n",
    "\n",
    "    # 필요없는 열 제거\n",
    "    columns_to_drop = ['본번', '부번', '도로명', '해제사유발생일', '등기신청일자', '거래유형', '중개사소재지']\n",
    "    data = data.drop(columns=[col for col in columns_to_drop if col in data.columns])\n",
    "\n",
    "    # 'id' 열 추가\n",
    "    data['id'] = 'TRAIN_' + data.index.astype(str)\n",
    "\n",
    "    # 열 순서 변경\n",
    "    data = data[train.columns]\n",
    "\n",
    "    # Save the cleaned DataFrame to a new CSV file\n",
    "    data.to_csv(new_file_path_cleaned, index=False)\n"
   ]
  },
  {
   "cell_type": "code",
   "execution_count": 24,
   "metadata": {
    "colab": {
     "base_uri": "https://localhost:8080/"
    },
    "id": "9K_W47qHVoEt",
    "outputId": "25fec081-7b17-4f22-e9e4-4f8de06e14f6"
   },
   "outputs": [
    {
     "name": "stdout",
     "output_type": "stream",
     "text": [
      "6년도 불러옴...\n",
      "7년도 불러옴...\n",
      "8년도 불러옴...\n",
      "9년도 불러옴...\n",
      "10년도 불러옴...\n",
      "11년도 불러옴...\n",
      "12년도 불러옴...\n",
      "13년도 불러옴...\n"
     ]
    }
   ],
   "source": [
    "combined_data = pd.DataFrame([])\n",
    "\n",
    "for i in range(6, 14):\n",
    "    print(f'{i}년도 불러옴...')\n",
    "    data = pd.read_csv(f'./대치동데이터/train_dachi{i:02}.csv')\n",
    "    data['transaction_real_price'] = data['transaction_real_price'].str.replace(',', '').astype(int)\n",
    "    combined_data = pd.concat([combined_data, data])\n",
    "\n",
    "# Reset the index\n",
    "data = pd.read_csv('train.csv')\n",
    "combined_data = pd.concat([combined_data, data])\n",
    "combined_data.reset_index(drop=True, inplace=True)\n",
    "\n",
    "combined_data.to_csv(\"train_dachi.csv\", index=False)"
   ]
  },
  {
   "cell_type": "code",
   "execution_count": 25,
   "metadata": {
    "colab": {
     "base_uri": "https://localhost:8080/"
    },
    "id": "iSs6tnO1VoEt",
    "outputId": "5652f59a-8139-4c3f-b7b7-6e12984ad3db"
   },
   "outputs": [
    {
     "name": "stdout",
     "output_type": "stream",
     "text": [
      "6년도 저장중...\n",
      "7년도 저장중...\n",
      "8년도 저장중...\n",
      "9년도 저장중...\n",
      "10년도 저장중...\n",
      "11년도 저장중...\n",
      "12년도 저장중...\n",
      "13년도 저장중...\n",
      "14년도 저장중...\n",
      "15년도 저장중...\n",
      "16년도 저장중...\n",
      "17년도 저장중...\n",
      "18년도 저장중...\n",
      "19년도 저장중...\n",
      "20년도 저장중...\n",
      "21년도 저장중...\n",
      "22년도 저장중...\n",
      "23년도 저장중...\n"
     ]
    }
   ],
   "source": [
    "# 역삼동\n",
    "for i in range(6, 24):\n",
    "    # 데이터 읽어오기\n",
    "    print(f'{i}년도 저장중...')\n",
    "    if i < 10:\n",
    "        data = pd.read_csv('./역삼동데이터/아파트(매매)__실거래가_200'+str(i)+'.csv', encoding='cp949')\n",
    "    else:\n",
    "        data = pd.read_csv('./역삼동데이터/아파트(매매)__실거래가_20'+str(i)+'.csv', encoding='cp949')\n",
    "    train = pd.read_csv('train.csv')\n",
    "\n",
    "    # 열 이름 변경\n",
    "    data = data.rename(columns={\n",
    "        '시군구': 'sigungu',\n",
    "        '번지': 'jibun',\n",
    "        '단지명': 'apt_name',\n",
    "        '전용면적(㎡)': 'exclusive_use_area',\n",
    "        '계약년월': 'transaction_year_month',\n",
    "        '계약일': 'transaction_day',\n",
    "        '거래금액(만원)': 'transaction_real_price',\n",
    "        '층': 'floor',\n",
    "        '건축년도': 'year_of_completion'\n",
    "    })\n",
    "\n",
    "    # 필요없는 열 제거\n",
    "    data = data.drop(columns=['본번', '부번', '도로명', '해제사유발생일', '등기신청일자', '거래유형', '중개사소재지'])\n",
    "\n",
    "    # 'id' 열 추가\n",
    "    data['id'] = 'TRAIN_' + data.index.astype(str)\n",
    "\n",
    "    # 열 순서 변경\n",
    "    data = data[train.columns]\n",
    "\n",
    "    if i<10:\n",
    "        new_file_path_cleaned = \"./역삼동데이터/train200\"+ str(i)+\".csv\"\n",
    "    else:\n",
    "        new_file_path_cleaned = \"./역삼동데이터/train20\"+ str(i)+\".csv\"\n",
    "    data.to_csv(new_file_path_cleaned, index=False)"
   ]
  },
  {
   "cell_type": "code",
   "execution_count": 26,
   "metadata": {
    "colab": {
     "base_uri": "https://localhost:8080/"
    },
    "id": "b74-sQj9VoEu",
    "outputId": "33cd8817-eff4-4639-ffd8-515a39b911af"
   },
   "outputs": [
    {
     "name": "stdout",
     "output_type": "stream",
     "text": [
      "6년도 불러옴...\n",
      "7년도 불러옴...\n",
      "8년도 불러옴...\n",
      "9년도 불러옴...\n",
      "10년도 불러옴...\n",
      "11년도 불러옴...\n",
      "12년도 불러옴...\n",
      "13년도 불러옴...\n",
      "14년도 불러옴...\n",
      "15년도 불러옴...\n",
      "16년도 불러옴...\n",
      "17년도 불러옴...\n",
      "18년도 불러옴...\n",
      "19년도 불러옴...\n",
      "20년도 불러옴...\n",
      "21년도 불러옴...\n",
      "22년도 불러옴...\n",
      "23년도 불러옴...\n"
     ]
    }
   ],
   "source": [
    "combined_data = pd.DataFrame([])\n",
    "\n",
    "for i in range(6, 24):\n",
    "    print(f'{i}년도 불러옴...')\n",
    "    if i < 10:\n",
    "        data = pd.read_csv('./역삼동데이터/train200'+str(i)+'.csv')\n",
    "    else:\n",
    "        data = pd.read_csv('./역삼동데이터/train20'+str(i)+'.csv')\n",
    "\n",
    "    data['transaction_real_price'] = data['transaction_real_price'].str.replace(',', '').astype(int)\n",
    "\n",
    "    combined_data = pd.concat([combined_data, data])\n",
    "\n",
    "# Reset the index\n",
    "combined_data.reset_index(drop=True, inplace=True)\n",
    "\n",
    "\n",
    "\n",
    "combined_data.to_csv(\"train_yeksam.csv\", index=False)\n"
   ]
  },
  {
   "cell_type": "code",
   "execution_count": 27,
   "metadata": {
    "colab": {
     "base_uri": "https://localhost:8080/"
    },
    "id": "BAKi2ZOPu5B7",
    "outputId": "5d103487-58f2-4f1e-b795-8c5eecca5cf7"
   },
   "outputs": [
    {
     "name": "stdout",
     "output_type": "stream",
     "text": [
      "6년도 저장중...\n",
      "7년도 저장중...\n",
      "8년도 저장중...\n",
      "9년도 저장중...\n",
      "10년도 저장중...\n",
      "11년도 저장중...\n",
      "12년도 저장중...\n",
      "13년도 저장중...\n",
      "14년도 저장중...\n",
      "15년도 저장중...\n",
      "16년도 저장중...\n",
      "17년도 저장중...\n",
      "18년도 저장중...\n",
      "19년도 저장중...\n",
      "20년도 저장중...\n",
      "21년도 저장중...\n",
      "22년도 저장중...\n",
      "23년도 저장중...\n"
     ]
    }
   ],
   "source": [
    "# 도곡동\n",
    "for i in range(6, 24):\n",
    "    # 데이터 읽어오기\n",
    "    print(f'{i}년도 저장중...')\n",
    "    if i < 10:\n",
    "        data = pd.read_csv('./도곡동데이터/도곡0'+str(i)+'.csv', encoding='cp949')\n",
    "    else:\n",
    "        data = pd.read_csv('./도곡동데이터/도곡'+str(i)+'.csv', encoding='cp949')\n",
    "    train = pd.read_csv('train.csv')\n",
    "\n",
    "    # 열 이름 변경\n",
    "    data = data.rename(columns={\n",
    "        '시군구': 'sigungu',\n",
    "        '번지': 'jibun',\n",
    "        '단지명': 'apt_name',\n",
    "        '전용면적(㎡)': 'exclusive_use_area',\n",
    "        '계약년월': 'transaction_year_month',\n",
    "        '계약일': 'transaction_day',\n",
    "        '거래금액(만원)': 'transaction_real_price',\n",
    "        '층': 'floor',\n",
    "        '건축년도': 'year_of_completion'\n",
    "    })\n",
    "\n",
    "    # 필요없는 열 제거\n",
    "    data = data.drop(columns=['본번', '부번', '도로명', '해제사유발생일', '등기신청일자', '거래유형', '중개사소재지'])\n",
    "\n",
    "    # 'id' 열 추가\n",
    "    data['id'] = 'TRAIN_' + data.index.astype(str)\n",
    "\n",
    "    # 열 순서 변경\n",
    "    data = data[train.columns]\n",
    "\n",
    "    if i<10:\n",
    "        new_file_path_cleaned = \"./도곡동데이터/train200\"+ str(i)+\".csv\"\n",
    "    else:\n",
    "        new_file_path_cleaned = \"./도곡동데이터/train20\"+ str(i)+\".csv\"\n",
    "    data.to_csv(new_file_path_cleaned, index=False)\n"
   ]
  },
  {
   "cell_type": "markdown",
   "metadata": {
    "id": "HBZxn7Dsw6wN"
   },
   "source": [
    "06~23 데이터 통합"
   ]
  },
  {
   "cell_type": "code",
   "execution_count": 28,
   "metadata": {
    "colab": {
     "base_uri": "https://localhost:8080/"
    },
    "id": "nT8USCSDu9qL",
    "outputId": "4812f1cc-7e69-42c5-a494-25894d7f4a25"
   },
   "outputs": [
    {
     "name": "stdout",
     "output_type": "stream",
     "text": [
      "6년도 불러옴...\n",
      "7년도 불러옴...\n",
      "8년도 불러옴...\n",
      "9년도 불러옴...\n",
      "10년도 불러옴...\n",
      "11년도 불러옴...\n",
      "12년도 불러옴...\n",
      "13년도 불러옴...\n",
      "14년도 불러옴...\n",
      "15년도 불러옴...\n",
      "16년도 불러옴...\n",
      "17년도 불러옴...\n",
      "18년도 불러옴...\n",
      "19년도 불러옴...\n",
      "20년도 불러옴...\n",
      "21년도 불러옴...\n",
      "22년도 불러옴...\n",
      "23년도 불러옴...\n"
     ]
    }
   ],
   "source": [
    "combined_data = pd.DataFrame([])\n",
    "\n",
    "for i in range(6, 24):\n",
    "    print(f'{i}년도 불러옴...')\n",
    "    if i < 10:\n",
    "        data = pd.read_csv('./도곡동데이터/train200'+str(i)+'.csv')\n",
    "    else:\n",
    "        data = pd.read_csv('./도곡동데이터/train20'+str(i)+'.csv')\n",
    "    data['transaction_real_price'] = data['transaction_real_price'].str.replace(',', '').astype(int)\n",
    "    combined_data = pd.concat([combined_data, data])\n",
    "\n",
    "# Reset the index\n",
    "combined_data.reset_index(drop=True, inplace=True)\n",
    "combined_data.to_csv(\"train_dogok.csv\", index=False)"
   ]
  },
  {
   "cell_type": "code",
   "execution_count": 29,
   "metadata": {
    "colab": {
     "base_uri": "https://localhost:8080/"
    },
    "id": "FYDpV5TnVoEv",
    "outputId": "fcd00f29-9ab9-4642-968c-327289c37848"
   },
   "outputs": [
    {
     "name": "stdout",
     "output_type": "stream",
     "text": [
      "6년도 저장중...\n",
      "7년도 저장중...\n",
      "8년도 저장중...\n",
      "9년도 저장중...\n",
      "10년도 저장중...\n",
      "11년도 저장중...\n",
      "12년도 저장중...\n",
      "13년도 저장중...\n",
      "14년도 저장중...\n",
      "15년도 저장중...\n",
      "16년도 저장중...\n",
      "17년도 저장중...\n",
      "18년도 저장중...\n",
      "19년도 저장중...\n",
      "20년도 저장중...\n",
      "21년도 저장중...\n",
      "22년도 저장중...\n",
      "23년도 저장중...\n"
     ]
    }
   ],
   "source": [
    "# 개포동\n",
    "for i in range(6, 24):\n",
    "    # 데이터 읽어오기\n",
    "    print(f'{i}년도 저장중...')\n",
    "    if i < 10:\n",
    "        data = pd.read_csv('./개포동데이터/개포 0'+str(i)+'.csv', encoding='cp949')\n",
    "    else:\n",
    "        data = pd.read_csv('./개포동데이터/개포 '+str(i)+'.csv', encoding='cp949')\n",
    "    train = pd.read_csv('train.csv')\n",
    "\n",
    "    # 열 이름 변경\n",
    "    data = data.rename(columns={\n",
    "        '시군구': 'sigungu',\n",
    "        '번지': 'jibun',\n",
    "        '단지명': 'apt_name',\n",
    "        '전용면적(㎡)': 'exclusive_use_area',\n",
    "        '계약년월': 'transaction_year_month',\n",
    "        '계약일': 'transaction_day',\n",
    "        '거래금액(만원)': 'transaction_real_price',\n",
    "        '층': 'floor',\n",
    "        '건축년도': 'year_of_completion'\n",
    "    })\n",
    "\n",
    "    # 필요없는 열 제거\n",
    "    data = data.drop(columns=['본번', '부번', '도로명', '해제사유발생일', '등기신청일자', '거래유형', '중개사소재지'])\n",
    "\n",
    "    # 'id' 열 추가\n",
    "    data['id'] = 'TRAIN_' + data.index.astype(str)\n",
    "\n",
    "    # 열 순서 변경\n",
    "    data = data[train.columns]\n",
    "\n",
    "    if i<10:\n",
    "        new_file_path_cleaned = \"./개포동데이터/train200\"+ str(i)+\".csv\"\n",
    "    else:\n",
    "        new_file_path_cleaned = \"./개포동데이터/train20\"+ str(i)+\".csv\"\n",
    "    data.to_csv(new_file_path_cleaned, index=False)"
   ]
  },
  {
   "cell_type": "code",
   "execution_count": 30,
   "metadata": {
    "colab": {
     "base_uri": "https://localhost:8080/"
    },
    "id": "-RpoCBWnVoEv",
    "outputId": "6e10e963-c4fe-407b-ca75-1cb4c33cea37"
   },
   "outputs": [
    {
     "name": "stdout",
     "output_type": "stream",
     "text": [
      "6년도 불러옴...\n",
      "7년도 불러옴...\n",
      "8년도 불러옴...\n",
      "9년도 불러옴...\n",
      "10년도 불러옴...\n",
      "11년도 불러옴...\n",
      "12년도 불러옴...\n",
      "13년도 불러옴...\n",
      "14년도 불러옴...\n",
      "15년도 불러옴...\n",
      "16년도 불러옴...\n",
      "17년도 불러옴...\n",
      "18년도 불러옴...\n",
      "19년도 불러옴...\n",
      "20년도 불러옴...\n",
      "21년도 불러옴...\n",
      "22년도 불러옴...\n",
      "23년도 불러옴...\n"
     ]
    }
   ],
   "source": [
    "combined_data = pd.DataFrame([])\n",
    "\n",
    "for i in range(6, 24):\n",
    "    print(f'{i}년도 불러옴...')\n",
    "    if i < 10:\n",
    "        data = pd.read_csv('./개포동데이터/train200'+str(i)+'.csv')\n",
    "    else:\n",
    "        data = pd.read_csv('./개포동데이터/train20'+str(i)+'.csv')\n",
    "    data['transaction_real_price'] = data['transaction_real_price'].str.replace(',', '').astype(int)\n",
    "    combined_data = pd.concat([combined_data, data])\n",
    "\n",
    "# Reset the index\n",
    "combined_data.reset_index(drop=True, inplace=True)\n",
    "combined_data.to_csv(\"train_gaepo.csv\", index=False)"
   ]
  },
  {
   "cell_type": "code",
   "execution_count": 31,
   "metadata": {
    "colab": {
     "base_uri": "https://localhost:8080/"
    },
    "id": "5Np0Rpe5VoEv",
    "outputId": "ff7c31fb-51ef-4814-d6a4-ae2e1e6b4846"
   },
   "outputs": [
    {
     "name": "stdout",
     "output_type": "stream",
     "text": [
      "6년도 저장중...\n",
      "7년도 저장중...\n",
      "8년도 저장중...\n",
      "9년도 저장중...\n",
      "10년도 저장중...\n",
      "11년도 저장중...\n",
      "12년도 저장중...\n",
      "13년도 저장중...\n",
      "14년도 저장중...\n",
      "15년도 저장중...\n",
      "16년도 저장중...\n",
      "17년도 저장중...\n",
      "18년도 저장중...\n",
      "19년도 저장중...\n",
      "20년도 저장중...\n",
      "21년도 저장중...\n",
      "22년도 저장중...\n",
      "23년도 저장중...\n"
     ]
    }
   ],
   "source": [
    "# 일원동\n",
    "for i in range(6, 24):\n",
    "    # 데이터 읽어오기\n",
    "    print(f'{i}년도 저장중...')\n",
    "    if i < 10:\n",
    "        data = pd.read_csv('./일원동데이터/0'+str(i)+'.csv', encoding='cp949')\n",
    "    else:\n",
    "        data = pd.read_csv('./일원동데이터/'+str(i)+'.csv', encoding='cp949')\n",
    "    train = pd.read_csv('train.csv')\n",
    "\n",
    "    # 열 이름 변경\n",
    "    data = data.rename(columns={\n",
    "        '시군구': 'sigungu',\n",
    "        '번지': 'jibun',\n",
    "        '단지명': 'apt_name',\n",
    "        '전용면적(㎡)': 'exclusive_use_area',\n",
    "        '계약년월': 'transaction_year_month',\n",
    "        '계약일': 'transaction_day',\n",
    "        '거래금액(만원)': 'transaction_real_price',\n",
    "        '층': 'floor',\n",
    "        '건축년도': 'year_of_completion'\n",
    "    })\n",
    "\n",
    "    # 필요없는 열 제거\n",
    "    data = data.drop(columns=['본번', '부번', '도로명', '해제사유발생일', '등기신청일자', '거래유형', '중개사소재지'])\n",
    "\n",
    "    # 'id' 열 추가\n",
    "    data['id'] = 'TRAIN_' + data.index.astype(str)\n",
    "\n",
    "    # 열 순서 변경\n",
    "    data = data[train.columns]\n",
    "\n",
    "    if i<10:\n",
    "        new_file_path_cleaned = \"./일원동데이터/train200\"+ str(i)+\".csv\"\n",
    "    else:\n",
    "        new_file_path_cleaned = \"./일원동데이터/train20\"+ str(i)+\".csv\"\n",
    "    data.to_csv(new_file_path_cleaned, index=False)"
   ]
  },
  {
   "cell_type": "code",
   "execution_count": 32,
   "metadata": {
    "colab": {
     "base_uri": "https://localhost:8080/"
    },
    "id": "DF0ewEEsVoEv",
    "outputId": "54a30ce4-4580-49e8-f181-8dc58f761eba"
   },
   "outputs": [
    {
     "name": "stdout",
     "output_type": "stream",
     "text": [
      "6년도 불러옴...\n",
      "7년도 불러옴...\n",
      "8년도 불러옴...\n",
      "9년도 불러옴...\n",
      "10년도 불러옴...\n",
      "11년도 불러옴...\n",
      "12년도 불러옴...\n",
      "13년도 불러옴...\n",
      "14년도 불러옴...\n",
      "15년도 불러옴...\n",
      "16년도 불러옴...\n",
      "17년도 불러옴...\n",
      "18년도 불러옴...\n",
      "19년도 불러옴...\n",
      "20년도 불러옴...\n",
      "21년도 불러옴...\n",
      "22년도 불러옴...\n",
      "23년도 불러옴...\n"
     ]
    }
   ],
   "source": [
    "combined_data = pd.DataFrame([])\n",
    "\n",
    "for i in range(6, 24):\n",
    "    print(f'{i}년도 불러옴...')\n",
    "    if i < 10:\n",
    "        data = pd.read_csv('./일원동데이터/train200'+str(i)+'.csv')\n",
    "    else:\n",
    "        data = pd.read_csv('./일원동데이터/train20'+str(i)+'.csv')\n",
    "    data['transaction_real_price'] = data['transaction_real_price'].str.replace(',', '').astype(int)\n",
    "    combined_data = pd.concat([combined_data, data])\n",
    "\n",
    "# Reset the index\n",
    "combined_data.reset_index(drop=True, inplace=True)\n",
    "combined_data.to_csv(\"train_ilwon.csv\", index=False)"
   ]
  },
  {
   "cell_type": "markdown",
   "metadata": {
    "id": "PVahYmwixBAI"
   },
   "source": [
    "대치동 데이터와 역삼,일원,개포,도곡 병합"
   ]
  },
  {
   "cell_type": "code",
   "execution_count": 33,
   "metadata": {
    "id": "H-AqZD9_vh7F"
   },
   "outputs": [],
   "source": [
    "df1 = pd.read_csv('./train_dachi.csv')\n",
    "df2 = pd.read_csv('./train_yeksam.csv')\n",
    "df3 = pd.read_csv('./train_ilwon.csv')\n",
    "df4 = pd.read_csv('./train_gaepo.csv')\n",
    "df5 = pd.read_csv('./train_dogok.csv')\n",
    "\n",
    "combined_data = pd.concat([df1, df2, df3, df4, df5])\n",
    "\n",
    "combined_data.reset_index(drop=True, inplace=True)\n",
    "\n",
    "combined_data.to_csv(\"./trainall.csv\", index=False)"
   ]
  },
  {
   "cell_type": "markdown",
   "metadata": {
    "id": "VacRoZJ0VoEw"
   },
   "source": [
    "### 위도/경도 데이터 수집, 위도/경도 feature 생성"
   ]
  },
  {
   "cell_type": "markdown",
   "metadata": {
    "id": "gV_G4P6lVoEw"
   },
   "source": [
    "네이버 Geocoding API (https://api.ncloud-docs.com/docs/ai-naver-mapsgeocoding-geocode) 를 활용해 지번 주소를 위도/경도로 변환"
   ]
  },
  {
   "cell_type": "markdown",
   "metadata": {
    "id": "nX3ARZNcVoEw"
   },
   "source": [
    "#### train/test 데이터(대치동)"
   ]
  },
  {
   "cell_type": "code",
   "execution_count": 34,
   "metadata": {
    "id": "OefUa8Z4VoEw"
   },
   "outputs": [],
   "source": [
    "import pandas as pd\n",
    "import warnings\n",
    "import dlib, cv2, os\n",
    "from sklearn.preprocessing import LabelEncoder\n",
    "warnings.filterwarnings('ignore')\n",
    "\n",
    "# from google.colab import drive\n",
    "# drive.mount('/content/gdrive/')"
   ]
  },
  {
   "cell_type": "code",
   "execution_count": 35,
   "metadata": {
    "id": "OTThm4VjWL1J"
   },
   "outputs": [],
   "source": [
    "import dlib, cv2, os\n"
   ]
  },
  {
   "cell_type": "code",
   "execution_count": 36,
   "metadata": {
    "id": "u8zCYJM1VoEw"
   },
   "outputs": [],
   "source": [
    "# cd /content/gdrive/My Drive/Colab Notebooks/apart"
   ]
  },
  {
   "cell_type": "code",
   "execution_count": 48,
   "metadata": {
    "id": "lbmGk68KVoEw"
   },
   "outputs": [],
   "source": [
    "train = pd.read_csv('train_dachi.csv')\n",
    "test = pd.read_csv('test.csv')"
   ]
  },
  {
   "cell_type": "code",
   "execution_count": 38,
   "metadata": {
    "id": "p_Vb7pmOVoEw"
   },
   "outputs": [],
   "source": [
    "from urllib import parse\n",
    "from urllib.request import urlopen\n",
    "from urllib.request import Request\n",
    "from urllib.error import HTTPError\n",
    "from bs4 import BeautifulSoup\n",
    "import json"
   ]
  },
  {
   "cell_type": "code",
   "execution_count": 39,
   "metadata": {
    "id": "EKBorYrtVoEw"
   },
   "outputs": [],
   "source": [
    "# 아이디와 키를 발급받아 사용. 한달 할당량 존재\n",
    "Client_ID = '3058gsr8l0'\n",
    "Client_Secret = 'kKpZpuW14Y21G7GicUK8ma196iTWQX8JkOZGOXo4'\n",
    "api_url = 'https://naveropenapi.apigw.ntruss.com/map-geocode/v2/geocode?query='"
   ]
  },
  {
   "cell_type": "code",
   "execution_count": 40,
   "metadata": {
    "colab": {
     "base_uri": "https://localhost:8080/"
    },
    "id": "E0_OMf_aVoEx",
    "outputId": "d1156629-cfe9-48cf-989a-1f4eba91803d"
   },
   "outputs": [
    {
     "name": "stdout",
     "output_type": "stream",
     "text": [
      "Success\n",
      "Success\n",
      "Success\n",
      "Success\n",
      "Success\n",
      "Success\n",
      "Success\n",
      "Success\n",
      "Success\n",
      "Success\n",
      "Success\n",
      "Success\n",
      "Success\n",
      "Success\n",
      "Success\n",
      "Success\n",
      "Success\n",
      "Success\n",
      "Success\n",
      "Success\n",
      "Success\n",
      "Success\n",
      "Success\n",
      "Success\n",
      "Success\n",
      "Success\n",
      "Success\n",
      "Success\n",
      "Success\n",
      "Success\n",
      "Success\n",
      "Success\n",
      "Success\n",
      "Success\n",
      "Success\n",
      "Success\n",
      "Success\n",
      "Success\n",
      "Success\n",
      "Success\n",
      "Success\n",
      "Success\n",
      "Success\n",
      "Success\n",
      "Success\n",
      "Success\n",
      "Success\n",
      "Success\n",
      "Success\n",
      "Success\n",
      "Success\n",
      "Success\n",
      "Success\n",
      "Success\n",
      "Success\n",
      "Success\n",
      "Success\n",
      "Success\n",
      "Success\n",
      "Success\n",
      "Success\n",
      "Success\n",
      "Success\n",
      "Success\n",
      "Success\n",
      "Success\n",
      "Success\n",
      "Success\n",
      "Success\n",
      "Success\n"
     ]
    }
   ],
   "source": [
    "train_dic={}\n",
    "for adress in train['jibun'].value_counts().index:\n",
    "    juso = \"서울특별시 강남구 대치동 \" + str(adress)\n",
    "    add_urlenc = parse.quote(juso) # URL Encoding\n",
    "    url = api_url + add_urlenc\n",
    "    request = Request(url)\n",
    "    request.add_header('X-NCP-APIGW-API-KEY-ID', Client_ID)\n",
    "    request.add_header('X-NCP-APIGW-API-KEY', Client_Secret)\n",
    "\n",
    "    try:\n",
    "        response = urlopen(request)\n",
    "\n",
    "    except HTTPError as e:\n",
    "        print('HTTP Error')\n",
    "        latitude, longitude = None, None\n",
    "\n",
    "    else:\n",
    "        rescode = response.getcode()\n",
    "\n",
    "        if rescode == 200:\n",
    "            response_body = response.read().decode('utf-8')\n",
    "            response_body = json.loads(response_body)\n",
    "\n",
    "            if response_body['addresses'] == []:\n",
    "                print('No result')\n",
    "            else:\n",
    "                latitude = response_body['addresses'][0]['y']\n",
    "                longitude = response_body['addresses'][0]['x']\n",
    "                print('Success')\n",
    "        else:\n",
    "            print(f'Response error, rescode:{rescode}')\n",
    "            latitude, longitude = None, None\n",
    "    train_dic[adress]=[latitude, longitude]\n"
   ]
  },
  {
   "cell_type": "code",
   "execution_count": 50,
   "metadata": {
    "colab": {
     "base_uri": "https://localhost:8080/"
    },
    "id": "0GBqiJ8zVoEx",
    "outputId": "cf3a49ff-b547-4b6a-ed40-05e4cdbf8e08"
   },
   "outputs": [
    {
     "name": "stdout",
     "output_type": "stream",
     "text": [
      "Success\n",
      "Success\n",
      "Success\n",
      "Success\n",
      "Success\n",
      "Success\n",
      "Success\n",
      "Success\n",
      "Success\n",
      "Success\n",
      "Success\n",
      "Success\n",
      "Success\n",
      "Success\n",
      "Success\n",
      "Success\n",
      "Success\n",
      "Success\n",
      "Success\n",
      "Success\n",
      "Success\n",
      "Success\n",
      "Success\n",
      "Success\n"
     ]
    }
   ],
   "source": [
    "test_dic={}\n",
    "for adress in test['jibun'].value_counts().index:\n",
    "    juso = \"서울특별시 강남구 대치동 \" + str(adress)\n",
    "    add_urlenc = parse.quote(juso) # URL Encoding\n",
    "    url = api_url + add_urlenc\n",
    "    request = Request(url)\n",
    "    request.add_header('X-NCP-APIGW-API-KEY-ID', Client_ID)\n",
    "    request.add_header('X-NCP-APIGW-API-KEY', Client_Secret)\n",
    "\n",
    "    try:\n",
    "        response = urlopen(request)\n",
    "\n",
    "    except HTTPError as e:\n",
    "        print('HTTP Error')\n",
    "        latitude, longitude = None, None\n",
    "\n",
    "    else:\n",
    "        rescode = response.getcode()\n",
    "\n",
    "        if rescode == 200:\n",
    "            response_body = response.read().decode('utf-8')\n",
    "            response_body = json.loads(response_body)\n",
    "\n",
    "            if response_body['addresses'] == []:\n",
    "                print('No result')\n",
    "            else:\n",
    "                latitude = response_body['addresses'][0]['y']\n",
    "                longitude = response_body['addresses'][0]['x']\n",
    "                print('Success')\n",
    "        else:\n",
    "            print(f'Response error, rescode:{rescode}')\n",
    "            latitude, longitude = None, None\n",
    "    test_dic[adress]=[latitude, longitude]\n"
   ]
  },
  {
   "cell_type": "code",
   "execution_count": 51,
   "metadata": {
    "id": "l97iaI4HVoEx"
   },
   "outputs": [],
   "source": [
    "train['lat']=0\n",
    "train['lon']=0\n",
    "test['lat']=0\n",
    "test['lon']=0"
   ]
  },
  {
   "cell_type": "code",
   "execution_count": 52,
   "metadata": {
    "id": "VLZYIgh0VoEx"
   },
   "outputs": [],
   "source": [
    "for i in range(len(train)):\n",
    "  key=train['jibun'][i]\n",
    "  train['lat'][i]=float(train_dic[key][0])\n",
    "  train['lon'][i]=float(train_dic[key][1])"
   ]
  },
  {
   "cell_type": "code",
   "execution_count": 53,
   "metadata": {
    "id": "aYqqcGnRVoEx"
   },
   "outputs": [],
   "source": [
    "for i in range(len(test)):\n",
    "  key=test['jibun'][i]\n",
    "  test['lat'][i]=float(test_dic[key][0])\n",
    "  test['lon'][i]=float(test_dic[key][1])"
   ]
  },
  {
   "cell_type": "code",
   "execution_count": 54,
   "metadata": {
    "id": "8qFOfzd8VoEx"
   },
   "outputs": [],
   "source": [
    "train.to_csv('train_xy.csv', index=False)\n",
    "test.to_csv('test_xy.csv', index=False)"
   ]
  },
  {
   "cell_type": "markdown",
   "metadata": {
    "id": "8CpkWek_VoEy"
   },
   "source": [
    "#### 역삼동, 일원동, 도곡동, 개포동"
   ]
  },
  {
   "cell_type": "code",
   "execution_count": 55,
   "metadata": {
    "id": "t81jymg_VoEy"
   },
   "outputs": [],
   "source": [
    "trainall = pd.read_csv('trainall.csv')\n",
    "\n",
    "df_yeksam = trainall[trainall['sigungu'] == '서울특별시 강남구 역삼동'] # 역삼동\n",
    "df_ilwon = trainall[trainall['sigungu'] == '서울특별시 강남구 일원동'] # 일원동\n",
    "df_dogok = trainall[trainall['sigungu'] == '서울특별시 강남구 도곡동'] # 도곡동\n",
    "df_gaepo = trainall[trainall['sigungu'] == '서울특별시 강남구 개포동'] # 개포동"
   ]
  },
  {
   "cell_type": "code",
   "execution_count": 56,
   "metadata": {
    "colab": {
     "base_uri": "https://localhost:8080/"
    },
    "id": "0BvIqdC1VoEy",
    "outputId": "9faf0635-87bf-4bd9-a7ee-8fa9d2ebc8aa"
   },
   "outputs": [
    {
     "name": "stdout",
     "output_type": "stream",
     "text": [
      "Success\n",
      "Success\n",
      "Success\n",
      "Success\n",
      "Success\n",
      "Success\n",
      "Success\n",
      "Success\n",
      "Success\n",
      "Success\n",
      "Success\n",
      "Success\n",
      "Success\n",
      "Success\n",
      "Success\n",
      "Success\n",
      "Success\n",
      "Success\n",
      "Success\n",
      "Success\n",
      "Success\n",
      "Success\n",
      "Success\n",
      "Success\n",
      "Success\n",
      "Success\n",
      "Success\n",
      "Success\n",
      "Success\n",
      "Success\n",
      "Success\n",
      "Success\n",
      "Success\n",
      "Success\n",
      "Success\n",
      "Success\n",
      "Success\n",
      "Success\n",
      "Success\n",
      "Success\n",
      "Success\n",
      "Success\n",
      "Success\n",
      "Success\n",
      "Success\n",
      "Success\n",
      "Success\n",
      "Success\n",
      "Success\n",
      "Success\n",
      "Success\n",
      "Success\n",
      "Success\n",
      "Success\n",
      "Success\n",
      "Success\n",
      "Success\n",
      "Success\n",
      "Success\n",
      "Success\n",
      "Success\n",
      "Success\n",
      "Success\n",
      "Success\n",
      "Success\n",
      "Success\n",
      "Success\n",
      "Success\n",
      "Success\n",
      "Success\n",
      "Success\n",
      "Success\n",
      "Success\n",
      "Success\n",
      "Success\n",
      "Success\n",
      "Success\n",
      "Success\n",
      "Success\n",
      "Success\n",
      "Success\n",
      "Success\n",
      "Success\n",
      "Success\n",
      "Success\n",
      "Success\n",
      "Success\n",
      "Success\n",
      "Success\n",
      "Success\n",
      "Success\n",
      "Success\n",
      "Success\n",
      "Success\n",
      "Success\n",
      "Success\n",
      "Success\n",
      "Success\n",
      "Success\n",
      "Success\n",
      "Success\n",
      "Success\n",
      "Success\n",
      "Success\n",
      "Success\n",
      "Success\n",
      "Success\n",
      "Success\n",
      "Success\n",
      "Success\n",
      "Success\n",
      "Success\n",
      "Success\n",
      "Success\n",
      "Success\n",
      "Success\n",
      "Success\n",
      "Success\n"
     ]
    }
   ],
   "source": [
    "# 역삼동\n",
    "train = df_yeksam\n",
    "\n",
    "train_dic={}\n",
    "for adress in train['jibun'].value_counts().index:\n",
    "    test  = \"서울특별시 강남구 역삼동 \" + str(adress)\n",
    "    add_urlenc = parse.quote(test) # URL Encoding\n",
    "    url = api_url + add_urlenc\n",
    "    request = Request(url)\n",
    "    request.add_header('X-NCP-APIGW-API-KEY-ID', Client_ID)\n",
    "    request.add_header('X-NCP-APIGW-API-KEY', Client_Secret)\n",
    "\n",
    "    try:\n",
    "        response = urlopen(request)\n",
    "\n",
    "    except HTTPError as e:\n",
    "        print('HTTP Error')\n",
    "        latitude, longitude = None, None\n",
    "\n",
    "    else:\n",
    "        rescode = response.getcode()\n",
    "\n",
    "        if rescode == 200:\n",
    "            response_body = response.read().decode('utf-8')\n",
    "            response_body = json.loads(response_body)\n",
    "\n",
    "            if response_body['addresses'] == []:\n",
    "                print('No result')\n",
    "            else:\n",
    "                latitude = response_body['addresses'][0]['y']\n",
    "                longitude = response_body['addresses'][0]['x']\n",
    "                print('Success')\n",
    "        else:\n",
    "            print(f'Response error, rescode:{rescode}')\n",
    "            latitude, longitude = None, None\n",
    "    train_dic[adress]=[latitude, longitude]\n",
    "\n",
    "train['lat']=0\n",
    "train['lon']=0\n",
    "train_yeksam = train.reset_index()\n",
    "\n",
    "for i in range(len(train_yeksam)):\n",
    "  key=train_yeksam['jibun'][i]\n",
    "  train_yeksam['lat'][i]=float(train_dic[key][0])\n",
    "  train_yeksam['lon'][i]=float(train_dic[key][1])\n",
    "\n",
    "#빈 데이터프레임 생성해서 결과 병합하기\n",
    "DF = pd.DataFrame([])\n",
    "DF = pd.concat([DF, train_yeksam])"
   ]
  },
  {
   "cell_type": "code",
   "execution_count": 57,
   "metadata": {
    "colab": {
     "base_uri": "https://localhost:8080/"
    },
    "id": "ts4IWMOaVoEy",
    "outputId": "c050701e-8eaa-423a-d0e2-a98171c3df90"
   },
   "outputs": [
    {
     "name": "stdout",
     "output_type": "stream",
     "text": [
      "Success\n",
      "Success\n",
      "Success\n",
      "Success\n",
      "Success\n",
      "Success\n",
      "Success\n",
      "Success\n",
      "Success\n",
      "Success\n",
      "Success\n",
      "Success\n",
      "Success\n",
      "Success\n",
      "Success\n",
      "Success\n",
      "Success\n"
     ]
    }
   ],
   "source": [
    "# 일원동\n",
    "train = df_ilwon\n",
    "\n",
    "\n",
    "train_dic={}\n",
    "for adress in train['jibun'].value_counts().index:\n",
    "    test  = \"서울특별시 강남구 일원동 \" + str(adress)\n",
    "    add_urlenc = parse.quote(test) # URL Encoding\n",
    "    url = api_url + add_urlenc\n",
    "    request = Request(url)\n",
    "    request.add_header('X-NCP-APIGW-API-KEY-ID', Client_ID)\n",
    "    request.add_header('X-NCP-APIGW-API-KEY', Client_Secret)\n",
    "\n",
    "    try:\n",
    "        response = urlopen(request)\n",
    "\n",
    "    except HTTPError as e:\n",
    "        print('HTTP Error')\n",
    "        latitude, longitude = None, None\n",
    "\n",
    "    else:\n",
    "        rescode = response.getcode()\n",
    "\n",
    "        if rescode == 200:\n",
    "            response_body = response.read().decode('utf-8')\n",
    "            response_body = json.loads(response_body)\n",
    "\n",
    "            if response_body['addresses'] == []:\n",
    "                print('No result')\n",
    "            else:\n",
    "                latitude = response_body['addresses'][0]['y']\n",
    "                longitude = response_body['addresses'][0]['x']\n",
    "                print('Success')\n",
    "        else:\n",
    "            print(f'Response error, rescode:{rescode}')\n",
    "            latitude, longitude = None, None\n",
    "    train_dic[adress]=[latitude, longitude]\n",
    "\n",
    "train['lat']=0\n",
    "train['lon']=0\n",
    "train_ilwon = train.reset_index()\n",
    "\n",
    "for i in range(len(train_ilwon)):\n",
    "  key=train_ilwon['jibun'][i]\n",
    "  train_ilwon['lat'][i]=float(train_dic[key][0])\n",
    "  train_ilwon['lon'][i]=float(train_dic[key][1])\n",
    "\n",
    "DF = pd.concat([DF, train_ilwon])"
   ]
  },
  {
   "cell_type": "code",
   "execution_count": 58,
   "metadata": {
    "colab": {
     "base_uri": "https://localhost:8080/"
    },
    "id": "6W_D7NBuVoEy",
    "outputId": "55190967-0c4a-4d9a-df1d-05c0270c4658"
   },
   "outputs": [
    {
     "name": "stdout",
     "output_type": "stream",
     "text": [
      "Success\n",
      "Success\n",
      "Success\n",
      "No result\n",
      "Success\n",
      "Success\n",
      "Success\n",
      "Success\n",
      "Success\n",
      "Success\n",
      "Success\n",
      "Success\n",
      "Success\n",
      "Success\n",
      "Success\n",
      "Success\n",
      "Success\n",
      "Success\n",
      "Success\n",
      "Success\n",
      "Success\n",
      "Success\n",
      "Success\n",
      "Success\n",
      "Success\n",
      "Success\n",
      "Success\n",
      "Success\n",
      "Success\n",
      "Success\n",
      "Success\n",
      "Success\n",
      "Success\n",
      "Success\n",
      "Success\n",
      "Success\n",
      "Success\n",
      "Success\n",
      "Success\n",
      "Success\n",
      "Success\n",
      "Success\n",
      "Success\n",
      "Success\n",
      "Success\n",
      "Success\n",
      "Success\n",
      "Success\n",
      "Success\n",
      "Success\n",
      "Success\n",
      "Success\n",
      "Success\n",
      "Success\n",
      "Success\n",
      "Success\n",
      "Success\n",
      "Success\n",
      "Success\n",
      "Success\n",
      "Success\n",
      "Success\n",
      "Success\n",
      "Success\n",
      "Success\n",
      "Success\n",
      "Success\n",
      "Success\n",
      "Success\n",
      "Success\n",
      "Success\n",
      "Success\n",
      "Success\n",
      "Success\n"
     ]
    }
   ],
   "source": [
    "# 도곡동\n",
    "\n",
    "train = df_dogok\n",
    "\n",
    "\n",
    "train_dic={}\n",
    "for adress in train['jibun'].value_counts().index:\n",
    "    test  = \"서울특별시 강남구 도곡동 \" + str(adress)\n",
    "    add_urlenc = parse.quote(test) # URL Encoding\n",
    "    url = api_url + add_urlenc\n",
    "    request = Request(url)\n",
    "    request.add_header('X-NCP-APIGW-API-KEY-ID', Client_ID)\n",
    "    request.add_header('X-NCP-APIGW-API-KEY', Client_Secret)\n",
    "\n",
    "    try:\n",
    "        response = urlopen(request)\n",
    "\n",
    "    except HTTPError as e:\n",
    "        print('HTTP Error')\n",
    "        latitude, longitude = None, None\n",
    "\n",
    "    else:\n",
    "        rescode = response.getcode()\n",
    "\n",
    "        if rescode == 200:\n",
    "            response_body = response.read().decode('utf-8')\n",
    "            response_body = json.loads(response_body)\n",
    "\n",
    "            if response_body['addresses'] == []:\n",
    "                print('No result')\n",
    "            else:\n",
    "                latitude = response_body['addresses'][0]['y']\n",
    "                longitude = response_body['addresses'][0]['x']\n",
    "                print('Success')\n",
    "        else:\n",
    "            print(f'Response error, rescode:{rescode}')\n",
    "            latitude, longitude = None, None\n",
    "    train_dic[adress]=[latitude, longitude]\n",
    "\n",
    "train['lat']=0\n",
    "train['lon']=0\n",
    "\n",
    "train_dogok = train.reset_index()\n",
    "\n",
    "for i in range(len(train_dogok)):\n",
    "  key=train_dogok['jibun'][i]\n",
    "  train_dogok['lat'][i]=float(train_dic[key][0])\n",
    "  train_dogok['lon'][i]=float(train_dic[key][1])\n",
    "\n",
    "DF = pd.concat([DF, train_dogok])"
   ]
  },
  {
   "cell_type": "code",
   "execution_count": 62,
   "metadata": {
    "colab": {
     "base_uri": "https://localhost:8080/",
     "height": 424
    },
    "id": "EVJwlMxAbdo_",
    "outputId": "4b866c11-ed46-47eb-af5c-8bf19bd4c798"
   },
   "outputs": [
    {
     "data": {
      "text/html": [
       "\n",
       "\n",
       "  <div id=\"df-13758044-699e-404c-9db7-6714a473e786\">\n",
       "    <div class=\"colab-df-container\">\n",
       "      <div>\n",
       "<style scoped>\n",
       "    .dataframe tbody tr th:only-of-type {\n",
       "        vertical-align: middle;\n",
       "    }\n",
       "\n",
       "    .dataframe tbody tr th {\n",
       "        vertical-align: top;\n",
       "    }\n",
       "\n",
       "    .dataframe thead th {\n",
       "        text-align: right;\n",
       "    }\n",
       "</style>\n",
       "<table border=\"1\" class=\"dataframe\">\n",
       "  <thead>\n",
       "    <tr style=\"text-align: right;\">\n",
       "      <th></th>\n",
       "      <th>id</th>\n",
       "      <th>sigungu</th>\n",
       "      <th>jibun</th>\n",
       "      <th>apt_name</th>\n",
       "      <th>exclusive_use_area</th>\n",
       "      <th>transaction_year_month</th>\n",
       "      <th>transaction_day</th>\n",
       "      <th>transaction_real_price</th>\n",
       "      <th>floor</th>\n",
       "      <th>year_of_completion</th>\n",
       "    </tr>\n",
       "  </thead>\n",
       "  <tbody>\n",
       "    <tr>\n",
       "      <th>24618</th>\n",
       "      <td>TRAIN_41</td>\n",
       "      <td>서울특별시 강남구 개포동</td>\n",
       "      <td>12-2</td>\n",
       "      <td>개포자이</td>\n",
       "      <td>153.80</td>\n",
       "      <td>200602</td>\n",
       "      <td>9</td>\n",
       "      <td>148000</td>\n",
       "      <td>15</td>\n",
       "      <td>2004</td>\n",
       "    </tr>\n",
       "    <tr>\n",
       "      <th>24619</th>\n",
       "      <td>TRAIN_42</td>\n",
       "      <td>서울특별시 강남구 개포동</td>\n",
       "      <td>12-2</td>\n",
       "      <td>개포자이</td>\n",
       "      <td>153.80</td>\n",
       "      <td>200603</td>\n",
       "      <td>18</td>\n",
       "      <td>151500</td>\n",
       "      <td>12</td>\n",
       "      <td>2004</td>\n",
       "    </tr>\n",
       "    <tr>\n",
       "      <th>24620</th>\n",
       "      <td>TRAIN_43</td>\n",
       "      <td>서울특별시 강남구 개포동</td>\n",
       "      <td>12-2</td>\n",
       "      <td>개포자이</td>\n",
       "      <td>153.80</td>\n",
       "      <td>200603</td>\n",
       "      <td>20</td>\n",
       "      <td>149000</td>\n",
       "      <td>16</td>\n",
       "      <td>2004</td>\n",
       "    </tr>\n",
       "    <tr>\n",
       "      <th>24621</th>\n",
       "      <td>TRAIN_44</td>\n",
       "      <td>서울특별시 강남구 개포동</td>\n",
       "      <td>12-2</td>\n",
       "      <td>개포자이</td>\n",
       "      <td>170.32</td>\n",
       "      <td>200607</td>\n",
       "      <td>6</td>\n",
       "      <td>34000</td>\n",
       "      <td>17</td>\n",
       "      <td>2004</td>\n",
       "    </tr>\n",
       "    <tr>\n",
       "      <th>24622</th>\n",
       "      <td>TRAIN_45</td>\n",
       "      <td>서울특별시 강남구 개포동</td>\n",
       "      <td>12-2</td>\n",
       "      <td>개포자이</td>\n",
       "      <td>134.30</td>\n",
       "      <td>200609</td>\n",
       "      <td>8</td>\n",
       "      <td>145000</td>\n",
       "      <td>10</td>\n",
       "      <td>2004</td>\n",
       "    </tr>\n",
       "    <tr>\n",
       "      <th>...</th>\n",
       "      <td>...</td>\n",
       "      <td>...</td>\n",
       "      <td>...</td>\n",
       "      <td>...</td>\n",
       "      <td>...</td>\n",
       "      <td>...</td>\n",
       "      <td>...</td>\n",
       "      <td>...</td>\n",
       "      <td>...</td>\n",
       "      <td>...</td>\n",
       "    </tr>\n",
       "    <tr>\n",
       "      <th>37955</th>\n",
       "      <td>TRAIN_43</td>\n",
       "      <td>서울특별시 강남구 개포동</td>\n",
       "      <td>12-2</td>\n",
       "      <td>개포자이</td>\n",
       "      <td>170.32</td>\n",
       "      <td>202105</td>\n",
       "      <td>27</td>\n",
       "      <td>260000</td>\n",
       "      <td>6</td>\n",
       "      <td>2004</td>\n",
       "    </tr>\n",
       "    <tr>\n",
       "      <th>37956</th>\n",
       "      <td>TRAIN_44</td>\n",
       "      <td>서울특별시 강남구 개포동</td>\n",
       "      <td>12-2</td>\n",
       "      <td>개포자이</td>\n",
       "      <td>134.30</td>\n",
       "      <td>202106</td>\n",
       "      <td>16</td>\n",
       "      <td>200000</td>\n",
       "      <td>20</td>\n",
       "      <td>2004</td>\n",
       "    </tr>\n",
       "    <tr>\n",
       "      <th>37957</th>\n",
       "      <td>TRAIN_45</td>\n",
       "      <td>서울특별시 강남구 개포동</td>\n",
       "      <td>12-2</td>\n",
       "      <td>개포자이</td>\n",
       "      <td>134.30</td>\n",
       "      <td>202108</td>\n",
       "      <td>19</td>\n",
       "      <td>254000</td>\n",
       "      <td>1</td>\n",
       "      <td>2004</td>\n",
       "    </tr>\n",
       "    <tr>\n",
       "      <th>38182</th>\n",
       "      <td>TRAIN_10</td>\n",
       "      <td>서울특별시 강남구 개포동</td>\n",
       "      <td>12-2</td>\n",
       "      <td>개포자이</td>\n",
       "      <td>168.42</td>\n",
       "      <td>202202</td>\n",
       "      <td>7</td>\n",
       "      <td>246000</td>\n",
       "      <td>2</td>\n",
       "      <td>2004</td>\n",
       "    </tr>\n",
       "    <tr>\n",
       "      <th>38183</th>\n",
       "      <td>TRAIN_11</td>\n",
       "      <td>서울특별시 강남구 개포동</td>\n",
       "      <td>12-2</td>\n",
       "      <td>개포자이</td>\n",
       "      <td>170.32</td>\n",
       "      <td>202207</td>\n",
       "      <td>27</td>\n",
       "      <td>303000</td>\n",
       "      <td>11</td>\n",
       "      <td>2004</td>\n",
       "    </tr>\n",
       "  </tbody>\n",
       "</table>\n",
       "<p>125 rows × 10 columns</p>\n",
       "</div>\n",
       "      <button class=\"colab-df-convert\" onclick=\"convertToInteractive('df-13758044-699e-404c-9db7-6714a473e786')\"\n",
       "              title=\"Convert this dataframe to an interactive table.\"\n",
       "              style=\"display:none;\">\n",
       "\n",
       "  <svg xmlns=\"http://www.w3.org/2000/svg\" height=\"24px\"viewBox=\"0 0 24 24\"\n",
       "       width=\"24px\">\n",
       "    <path d=\"M0 0h24v24H0V0z\" fill=\"none\"/>\n",
       "    <path d=\"M18.56 5.44l.94 2.06.94-2.06 2.06-.94-2.06-.94-.94-2.06-.94 2.06-2.06.94zm-11 1L8.5 8.5l.94-2.06 2.06-.94-2.06-.94L8.5 2.5l-.94 2.06-2.06.94zm10 10l.94 2.06.94-2.06 2.06-.94-2.06-.94-.94-2.06-.94 2.06-2.06.94z\"/><path d=\"M17.41 7.96l-1.37-1.37c-.4-.4-.92-.59-1.43-.59-.52 0-1.04.2-1.43.59L10.3 9.45l-7.72 7.72c-.78.78-.78 2.05 0 2.83L4 21.41c.39.39.9.59 1.41.59.51 0 1.02-.2 1.41-.59l7.78-7.78 2.81-2.81c.8-.78.8-2.07 0-2.86zM5.41 20L4 18.59l7.72-7.72 1.47 1.35L5.41 20z\"/>\n",
       "  </svg>\n",
       "      </button>\n",
       "\n",
       "\n",
       "\n",
       "    <div id=\"df-228e9bfe-05f1-406a-a74f-ff638a80a061\">\n",
       "      <button class=\"colab-df-quickchart\" onclick=\"quickchart('df-228e9bfe-05f1-406a-a74f-ff638a80a061')\"\n",
       "              title=\"Suggest charts.\"\n",
       "              style=\"display:none;\">\n",
       "\n",
       "<svg xmlns=\"http://www.w3.org/2000/svg\" height=\"24px\"viewBox=\"0 0 24 24\"\n",
       "     width=\"24px\">\n",
       "    <g>\n",
       "        <path d=\"M19 3H5c-1.1 0-2 .9-2 2v14c0 1.1.9 2 2 2h14c1.1 0 2-.9 2-2V5c0-1.1-.9-2-2-2zM9 17H7v-7h2v7zm4 0h-2V7h2v10zm4 0h-2v-4h2v4z\"/>\n",
       "    </g>\n",
       "</svg>\n",
       "      </button>\n",
       "    </div>\n",
       "\n",
       "<style>\n",
       "  .colab-df-quickchart {\n",
       "    background-color: #E8F0FE;\n",
       "    border: none;\n",
       "    border-radius: 50%;\n",
       "    cursor: pointer;\n",
       "    display: none;\n",
       "    fill: #1967D2;\n",
       "    height: 32px;\n",
       "    padding: 0 0 0 0;\n",
       "    width: 32px;\n",
       "  }\n",
       "\n",
       "  .colab-df-quickchart:hover {\n",
       "    background-color: #E2EBFA;\n",
       "    box-shadow: 0px 1px 2px rgba(60, 64, 67, 0.3), 0px 1px 3px 1px rgba(60, 64, 67, 0.15);\n",
       "    fill: #174EA6;\n",
       "  }\n",
       "\n",
       "  [theme=dark] .colab-df-quickchart {\n",
       "    background-color: #3B4455;\n",
       "    fill: #D2E3FC;\n",
       "  }\n",
       "\n",
       "  [theme=dark] .colab-df-quickchart:hover {\n",
       "    background-color: #434B5C;\n",
       "    box-shadow: 0px 1px 3px 1px rgba(0, 0, 0, 0.15);\n",
       "    filter: drop-shadow(0px 1px 2px rgba(0, 0, 0, 0.3));\n",
       "    fill: #FFFFFF;\n",
       "  }\n",
       "</style>\n",
       "\n",
       "    <script>\n",
       "      async function quickchart(key) {\n",
       "        const containerElement = document.querySelector('#' + key);\n",
       "        const charts = await google.colab.kernel.invokeFunction(\n",
       "            'suggestCharts', [key], {});\n",
       "      }\n",
       "    </script>\n",
       "\n",
       "      <script>\n",
       "\n",
       "function displayQuickchartButton(domScope) {\n",
       "  let quickchartButtonEl =\n",
       "    domScope.querySelector('#df-228e9bfe-05f1-406a-a74f-ff638a80a061 button.colab-df-quickchart');\n",
       "  quickchartButtonEl.style.display =\n",
       "    google.colab.kernel.accessAllowed ? 'block' : 'none';\n",
       "}\n",
       "\n",
       "        displayQuickchartButton(document);\n",
       "      </script>\n",
       "      <style>\n",
       "    .colab-df-container {\n",
       "      display:flex;\n",
       "      flex-wrap:wrap;\n",
       "      gap: 12px;\n",
       "    }\n",
       "\n",
       "    .colab-df-convert {\n",
       "      background-color: #E8F0FE;\n",
       "      border: none;\n",
       "      border-radius: 50%;\n",
       "      cursor: pointer;\n",
       "      display: none;\n",
       "      fill: #1967D2;\n",
       "      height: 32px;\n",
       "      padding: 0 0 0 0;\n",
       "      width: 32px;\n",
       "    }\n",
       "\n",
       "    .colab-df-convert:hover {\n",
       "      background-color: #E2EBFA;\n",
       "      box-shadow: 0px 1px 2px rgba(60, 64, 67, 0.3), 0px 1px 3px 1px rgba(60, 64, 67, 0.15);\n",
       "      fill: #174EA6;\n",
       "    }\n",
       "\n",
       "    [theme=dark] .colab-df-convert {\n",
       "      background-color: #3B4455;\n",
       "      fill: #D2E3FC;\n",
       "    }\n",
       "\n",
       "    [theme=dark] .colab-df-convert:hover {\n",
       "      background-color: #434B5C;\n",
       "      box-shadow: 0px 1px 3px 1px rgba(0, 0, 0, 0.15);\n",
       "      filter: drop-shadow(0px 1px 2px rgba(0, 0, 0, 0.3));\n",
       "      fill: #FFFFFF;\n",
       "    }\n",
       "  </style>\n",
       "\n",
       "      <script>\n",
       "        const buttonEl =\n",
       "          document.querySelector('#df-13758044-699e-404c-9db7-6714a473e786 button.colab-df-convert');\n",
       "        buttonEl.style.display =\n",
       "          google.colab.kernel.accessAllowed ? 'block' : 'none';\n",
       "\n",
       "        async function convertToInteractive(key) {\n",
       "          const element = document.querySelector('#df-13758044-699e-404c-9db7-6714a473e786');\n",
       "          const dataTable =\n",
       "            await google.colab.kernel.invokeFunction('convertToInteractive',\n",
       "                                                     [key], {});\n",
       "          if (!dataTable) return;\n",
       "\n",
       "          const docLinkHtml = 'Like what you see? Visit the ' +\n",
       "            '<a target=\"_blank\" href=https://colab.research.google.com/notebooks/data_table.ipynb>data table notebook</a>'\n",
       "            + ' to learn more about interactive tables.';\n",
       "          element.innerHTML = '';\n",
       "          dataTable['output_type'] = 'display_data';\n",
       "          await google.colab.output.renderOutput(dataTable, element);\n",
       "          const docLink = document.createElement('div');\n",
       "          docLink.innerHTML = docLinkHtml;\n",
       "          element.appendChild(docLink);\n",
       "        }\n",
       "      </script>\n",
       "    </div>\n",
       "  </div>\n"
      ],
      "text/plain": [
       "             id        sigungu jibun apt_name  exclusive_use_area  \\\n",
       "24618  TRAIN_41  서울특별시 강남구 개포동  12-2     개포자이              153.80   \n",
       "24619  TRAIN_42  서울특별시 강남구 개포동  12-2     개포자이              153.80   \n",
       "24620  TRAIN_43  서울특별시 강남구 개포동  12-2     개포자이              153.80   \n",
       "24621  TRAIN_44  서울특별시 강남구 개포동  12-2     개포자이              170.32   \n",
       "24622  TRAIN_45  서울특별시 강남구 개포동  12-2     개포자이              134.30   \n",
       "...         ...            ...   ...      ...                 ...   \n",
       "37955  TRAIN_43  서울특별시 강남구 개포동  12-2     개포자이              170.32   \n",
       "37956  TRAIN_44  서울특별시 강남구 개포동  12-2     개포자이              134.30   \n",
       "37957  TRAIN_45  서울특별시 강남구 개포동  12-2     개포자이              134.30   \n",
       "38182  TRAIN_10  서울특별시 강남구 개포동  12-2     개포자이              168.42   \n",
       "38183  TRAIN_11  서울특별시 강남구 개포동  12-2     개포자이              170.32   \n",
       "\n",
       "       transaction_year_month  transaction_day  transaction_real_price  floor  \\\n",
       "24618                  200602                9                  148000     15   \n",
       "24619                  200603               18                  151500     12   \n",
       "24620                  200603               20                  149000     16   \n",
       "24621                  200607                6                   34000     17   \n",
       "24622                  200609                8                  145000     10   \n",
       "...                       ...              ...                     ...    ...   \n",
       "37955                  202105               27                  260000      6   \n",
       "37956                  202106               16                  200000     20   \n",
       "37957                  202108               19                  254000      1   \n",
       "38182                  202202                7                  246000      2   \n",
       "38183                  202207               27                  303000     11   \n",
       "\n",
       "       year_of_completion  \n",
       "24618                2004  \n",
       "24619                2004  \n",
       "24620                2004  \n",
       "24621                2004  \n",
       "24622                2004  \n",
       "...                   ...  \n",
       "37955                2004  \n",
       "37956                2004  \n",
       "37957                2004  \n",
       "38182                2004  \n",
       "38183                2004  \n",
       "\n",
       "[125 rows x 10 columns]"
      ]
     },
     "execution_count": 62,
     "metadata": {},
     "output_type": "execute_result"
    }
   ],
   "source": [
    "df_gaepo[df_gaepo['apt_name'] == '개포자이']"
   ]
  },
  {
   "cell_type": "code",
   "execution_count": 61,
   "metadata": {
    "id": "VFFJliHgbdr5"
   },
   "outputs": [],
   "source": [
    "df_gaepo = df_gaepo.replace('12월 02일', '12-2')"
   ]
  },
  {
   "cell_type": "code",
   "execution_count": 63,
   "metadata": {
    "colab": {
     "base_uri": "https://localhost:8080/"
    },
    "id": "S2bBkr9jVoEy",
    "outputId": "e17fdb7f-d209-4287-b745-6015a754947b"
   },
   "outputs": [
    {
     "name": "stdout",
     "output_type": "stream",
     "text": [
      "Success\n",
      "Success\n",
      "Success\n",
      "Success\n",
      "Success\n",
      "Success\n",
      "Success\n",
      "Success\n",
      "Success\n",
      "Success\n",
      "Success\n",
      "Success\n",
      "Success\n",
      "Success\n",
      "Success\n",
      "Success\n",
      "Success\n",
      "Success\n",
      "Success\n",
      "Success\n",
      "Success\n",
      "Success\n",
      "Success\n",
      "Success\n",
      "Success\n",
      "Success\n",
      "Success\n",
      "Success\n",
      "Success\n",
      "Success\n",
      "Success\n",
      "Success\n",
      "Success\n",
      "Success\n",
      "Success\n",
      "Success\n",
      "Success\n",
      "Success\n",
      "Success\n",
      "Success\n"
     ]
    }
   ],
   "source": [
    "# 개포\n",
    "\n",
    "train = df_gaepo\n",
    "\n",
    "\n",
    "train_dic={}\n",
    "for adress in train['jibun'].value_counts().index:\n",
    "    test  = \"서울특별시 강남구 개포동 \" + str(adress)\n",
    "    add_urlenc = parse.quote(test) # URL Encoding\n",
    "    url = api_url + add_urlenc\n",
    "    request = Request(url)\n",
    "    request.add_header('X-NCP-APIGW-API-KEY-ID', Client_ID)\n",
    "    request.add_header('X-NCP-APIGW-API-KEY', Client_Secret)\n",
    "\n",
    "    try:\n",
    "        response = urlopen(request)\n",
    "\n",
    "    except HTTPError as e:\n",
    "        print('HTTP Error')\n",
    "        latitude, longitude = None, None\n",
    "\n",
    "    else:\n",
    "        rescode = response.getcode()\n",
    "\n",
    "        if rescode == 200:\n",
    "            response_body = response.read().decode('utf-8')\n",
    "            response_body = json.loads(response_body)\n",
    "\n",
    "            if response_body['addresses'] == []:\n",
    "                print('No result')\n",
    "            else:\n",
    "                latitude = response_body['addresses'][0]['y']\n",
    "                longitude = response_body['addresses'][0]['x']\n",
    "                print('Success')\n",
    "        else:\n",
    "            print(f'Response error, rescode:{rescode}')\n",
    "            latitude, longitude = None, None\n",
    "    train_dic[adress]=[latitude, longitude]\n",
    "\n",
    "train['lat']=0\n",
    "train['lon']=0\n",
    "\n",
    "train_gaepo = train.reset_index()\n",
    "\n",
    "for i in range(len(train_gaepo)):\n",
    "  key=train_gaepo['jibun'][i]\n",
    "  train_gaepo['lat'][i]=float(train_dic[key][0])\n",
    "  train_gaepo['lon'][i]=float(train_dic[key][1])\n",
    "\n",
    "DF = pd.concat([DF, train_gaepo])"
   ]
  },
  {
   "cell_type": "code",
   "execution_count": 64,
   "metadata": {
    "id": "MwOG_qlQVoEy"
   },
   "outputs": [],
   "source": [
    "train_xy = pd.read_csv('./train_xy.csv')\n",
    "DF = pd.concat([DF, train_xy])\n",
    "DF.to_csv('trainall_latlon.csv', index=False)"
   ]
  },
  {
   "cell_type": "markdown",
   "metadata": {
    "id": "FYSKSSO0VoEy"
   },
   "source": [
    "### feature 추가 생성"
   ]
  },
  {
   "cell_type": "markdown",
   "metadata": {
    "id": "Ul3fNCFpVoEz"
   },
   "source": [
    "#### 역과의 거리/ 역과의 거리 그룹핑 feature"
   ]
  },
  {
   "cell_type": "code",
   "execution_count": 65,
   "metadata": {
    "id": "hXKITdIhVoE7"
   },
   "outputs": [],
   "source": [
    "import pandas as pd\n",
    "import numpy as np\n",
    "import warnings\n",
    "import dlib, cv2, os\n",
    "from sklearn.preprocessing import LabelEncoder\n",
    "warnings.filterwarnings('ignore')\n",
    "\n",
    "# from google.colab import drive\n",
    "# drive.mount('/content/gdrive/')"
   ]
  },
  {
   "cell_type": "code",
   "execution_count": 66,
   "metadata": {
    "id": "8YFdiQwIVoE7"
   },
   "outputs": [],
   "source": [
    "# cd /content/gdrive/My Drive/Colab Notebooks/apart"
   ]
  },
  {
   "cell_type": "code",
   "execution_count": 69,
   "metadata": {
    "id": "c4OXQMXZVoE8"
   },
   "outputs": [],
   "source": [
    "train = pd.read_csv('trainall_latlon.csv')\n",
    "test = pd.read_csv('test_xy.csv')\n",
    "interest_rate = pd.read_csv('interest_rate.csv')\n",
    "station = pd.read_csv('station_coordinate.csv')"
   ]
  },
  {
   "cell_type": "code",
   "execution_count": 70,
   "metadata": {
    "id": "tfkIYifeVoE8"
   },
   "outputs": [],
   "source": [
    "gn=[\n",
    "'강남구청',\n",
    "'강남',\n",
    "'개포동',\n",
    "'구룡',\n",
    "'논현',\n",
    "'대모산입구',\n",
    "'대청',\n",
    "'대치',\n",
    "'도곡',\n",
    "'매봉',\n",
    "'봉은사',\n",
    "'삼성',\n",
    "'삼성중앙',\n",
    "'선릉',\n",
    "'선정릉',\n",
    "'수서',\n",
    "'신논현',\n",
    "'신사',\n",
    "'압구정로데오',\n",
    "'압구정',\n",
    "'양재',\n",
    "'언주',\n",
    "'역삼',\n",
    "'일원',\n",
    "'청담',\n",
    "'학동',\n",
    "'학여울',\n",
    "'한티'\n",
    "]"
   ]
  },
  {
   "cell_type": "code",
   "execution_count": 71,
   "metadata": {
    "colab": {
     "base_uri": "https://localhost:8080/"
    },
    "id": "Ao6chENBVoE8",
    "outputId": "df2e4953-40cb-45ae-df4b-a50246ff30fa"
   },
   "outputs": [
    {
     "name": "stdout",
     "output_type": "stream",
     "text": [
      "강남구청\n",
      "강남\n",
      "도곡\n",
      "선릉\n",
      "선정릉\n",
      "수서\n",
      "양재\n"
     ]
    },
    {
     "data": {
      "text/plain": [
       "{'개포동': [37.489116, 127.06614],\n",
       " '구룡': [37.486839, 127.058856],\n",
       " '논현': [37.511093, 127.021415],\n",
       " '대모산입구': [37.491373, 127.07272],\n",
       " '대청': [37.493514, 127.079532],\n",
       " '대치': [37.494612, 127.063642],\n",
       " '매봉': [37.486947, 127.046769],\n",
       " '봉은사': [37.514219, 127.060245],\n",
       " '삼성': [37.508844, 127.06316],\n",
       " '삼성중앙': [37.513011, 127.053282],\n",
       " '신논현': [37.504598, 127.02506],\n",
       " '신사': [37.516334, 127.020114],\n",
       " '압구정로데오': [37.527381, 127.040534],\n",
       " '압구정': [37.527072, 127.028461],\n",
       " '언주': [37.507287, 127.033868],\n",
       " '역삼': [37.500622, 127.036456],\n",
       " '일원': [37.483681, 127.08439],\n",
       " '청담': [37.519365, 127.05335],\n",
       " '학동': [37.514229, 127.031656],\n",
       " '학여울': [37.496663, 127.070594],\n",
       " '한티': [37.496237, 127.052873],\n",
       " '강남구청': [37.517186, 127.04128],\n",
       " '강남': [37.497175, 127.027926],\n",
       " '도곡': [37.490858, 127.055381],\n",
       " '선릉': [37.504503, 127.049008],\n",
       " '선정릉': [37.51098, 127.043593],\n",
       " '수서': [37.487371, 127.10188],\n",
       " '양재': [37.484147, 127.034631]}"
      ]
     },
     "execution_count": 71,
     "metadata": {},
     "output_type": "execute_result"
    }
   ],
   "source": [
    "station_coordinate={}\n",
    "for i in gn:\n",
    "  if sum(station['name']==i)==1:\n",
    "    lat=float(station.loc[station['name']==i]['lat'].values)\n",
    "    lon=float(station.loc[station['name']==i]['lng'].values)\n",
    "    station_coordinate[i]=[lat,lon]\n",
    "  else:\n",
    "    print(i)\n",
    "#환승역 처리\n",
    "station_coordinate['강남구청']=[37.517186,\t127.04128]\n",
    "station_coordinate['강남']=[37.497175,\t127.027926]\n",
    "station_coordinate['도곡']=[37.490858,127.055381]\n",
    "station_coordinate['선릉']=[37.504503,\t127.049008]\n",
    "station_coordinate['선정릉']=[37.51098,\t127.043593]\n",
    "station_coordinate['수서']=[37.487371,\t127.10188]\n",
    "station_coordinate['양재']=[37.484147,\t127.034631]\n",
    "station_coordinate\n"
   ]
  },
  {
   "cell_type": "code",
   "execution_count": 72,
   "metadata": {
    "id": "9P-hBiAKVoE8"
   },
   "outputs": [],
   "source": [
    "station_coordinate=pd.DataFrame(station_coordinate).T\n",
    "station_coordinate.columns = ['lat', 'lon']"
   ]
  },
  {
   "cell_type": "code",
   "execution_count": 73,
   "metadata": {
    "id": "SyPCtJGTVoE8"
   },
   "outputs": [],
   "source": [
    "train['subway_dist']=0\n",
    "test['subway_dist']=0"
   ]
  },
  {
   "cell_type": "code",
   "execution_count": 74,
   "metadata": {
    "colab": {
     "base_uri": "https://localhost:8080/"
    },
    "id": "pkc8GoAbVoE8",
    "outputId": "397fa234-d3b6-44b4-aceb-a8c84e2f2d5f"
   },
   "outputs": [
    {
     "name": "stdout",
     "output_type": "stream",
     "text": [
      "Collecting haversine\n",
      "  Downloading haversine-2.8.0-py2.py3-none-any.whl (7.7 kB)\n",
      "Installing collected packages: haversine\n",
      "Successfully installed haversine-2.8.0\n"
     ]
    }
   ],
   "source": [
    "!pip install haversine"
   ]
  },
  {
   "cell_type": "code",
   "execution_count": 75,
   "metadata": {
    "id": "oyfuTwaiVoE8"
   },
   "outputs": [],
   "source": [
    "from haversine import haversine\n",
    "import math"
   ]
  },
  {
   "cell_type": "code",
   "execution_count": 76,
   "metadata": {
    "id": "oHr4n-QYVoE8"
   },
   "outputs": [],
   "source": [
    "for i in range(len(train)):\n",
    "  distance=[]\n",
    "  for j in range(len(station_coordinate)):\n",
    "    x1=train.iloc[i]['lat']\n",
    "    y1=train.iloc[i]['lon']\n",
    "    x2=station_coordinate.iloc[j]['lat']\n",
    "    y2=station_coordinate.iloc[j]['lon']\n",
    "    start = (x1,y1)\n",
    "    goal = (x2,y2)\n",
    "    r=haversine(start, goal)\n",
    "    distance.append(r)\n",
    "  train['subway_dist'][i]=round(np.min(distance),5)"
   ]
  },
  {
   "cell_type": "code",
   "execution_count": 77,
   "metadata": {
    "id": "kpsypbWUVoE9"
   },
   "outputs": [],
   "source": [
    "for i in range(len(test)):\n",
    "  distance=[]\n",
    "  for j in range(len(station_coordinate)):\n",
    "    x1=test.iloc[i]['lat']\n",
    "    y1=test.iloc[i]['lon']\n",
    "    x2=station_coordinate.iloc[j]['lat']\n",
    "    y2=station_coordinate.iloc[j]['lon']\n",
    "    start = (x1,y1)\n",
    "    goal = (x2,y2)\n",
    "    r=haversine(start, goal)\n",
    "    distance.append(r)\n",
    "  test['subway_dist'][i]=round(np.min(distance),5)"
   ]
  },
  {
   "cell_type": "code",
   "execution_count": 78,
   "metadata": {
    "id": "1l6S6rkeVoE9"
   },
   "outputs": [],
   "source": [
    "def is_station_area(x):\n",
    "    if x <= 0.2:   # 초 역세권\n",
    "        return 3\n",
    "    elif x<=0.5:   # 1차 역세권\n",
    "        return 2\n",
    "    elif x<=1.0:   # 2차 역세권\n",
    "        return 1\n",
    "    else:          # 비역세권\n",
    "        return 0\n",
    "train[\"near_subway_rank\"] = train[\"subway_dist\"].apply(lambda x: is_station_area(x))\n",
    "test[\"near_subway_rank\"] = test[\"subway_dist\"].apply(lambda x: is_station_area(x))"
   ]
  },
  {
   "cell_type": "markdown",
   "metadata": {
    "id": "HYBrD6xwVoE9"
   },
   "source": [
    "#### 금리 데이터"
   ]
  },
  {
   "cell_type": "code",
   "execution_count": 79,
   "metadata": {
    "id": "AvMeKL3dVoE9"
   },
   "outputs": [],
   "source": [
    "def preprocess_tran_date(x):\n",
    "    if type(x) == int:\n",
    "        if x < 10:\n",
    "            return '0'+str(x)\n",
    "        else:\n",
    "            return str(x)\n",
    "    else:\n",
    "        return x\n",
    "\n",
    "train['transaction_day'] = train['transaction_day'].apply(preprocess_tran_date)\n",
    "train['transaction_date'] = train['transaction_year_month'].astype(int).astype(str) + train['transaction_day'].astype(str)\n",
    "train['transaction_date'] = pd.to_datetime(train['transaction_date'])\n",
    "train = train.sort_values('transaction_day').reset_index(drop=True)"
   ]
  },
  {
   "cell_type": "code",
   "execution_count": 80,
   "metadata": {
    "id": "qI9YC4XyVoE9"
   },
   "outputs": [],
   "source": [
    "def make_date(row):\n",
    "    month_day = row['월일'].replace('월 ', '-')\n",
    "    month_day = month_day.replace('일', '')\n",
    "    date = str(row['연도'])+ '-' + month_day\n",
    "    return date\n",
    "\n",
    "interest_rate['날짜'] = interest_rate.apply(lambda x: make_date(x), axis=1)\n",
    "interest_rate['날짜'] = pd.to_datetime(interest_rate['날짜'])"
   ]
  },
  {
   "cell_type": "code",
   "execution_count": 81,
   "metadata": {
    "id": "LXRqu81KVoE9"
   },
   "outputs": [],
   "source": [
    "from tqdm import tqdm\n",
    "from datetime import datetime"
   ]
  },
  {
   "cell_type": "code",
   "execution_count": 82,
   "metadata": {
    "colab": {
     "base_uri": "https://localhost:8080/"
    },
    "id": "4Ro7WsjqVoE9",
    "outputId": "ff87dbaa-75eb-4520-f563-3c0769ff3925"
   },
   "outputs": [
    {
     "name": "stderr",
     "output_type": "stream",
     "text": [
      "100%|██████████| 49091/49091 [00:50<00:00, 964.93it/s] \n"
     ]
    }
   ],
   "source": [
    "for idx, row in tqdm(train.iterrows(), total = train.shape[0]):\n",
    "    date = row['transaction_date']\n",
    "    rate = interest_rate[interest_rate['날짜'] <= date].iloc[0]['금리']\n",
    "    train.loc[idx, 'interest_rate'] = rate"
   ]
  },
  {
   "cell_type": "code",
   "execution_count": 83,
   "metadata": {
    "id": "LHibX6JsVoE-"
   },
   "outputs": [],
   "source": [
    "test['transaction_day'] = test['transaction_day'].apply(preprocess_tran_date)\n",
    "test['transaction_date'] = test['transaction_year_month'].astype(int).astype(str) + test['transaction_day'].astype(str)\n",
    "test['transaction_date'] = pd.to_datetime(test['transaction_date'])\n",
    "test = test.sort_values('transaction_day').reset_index(drop=True)"
   ]
  },
  {
   "cell_type": "code",
   "execution_count": 84,
   "metadata": {
    "colab": {
     "base_uri": "https://localhost:8080/"
    },
    "id": "J_FXJaVJVoE-",
    "outputId": "eb98e5ad-6102-46a0-d075-5835a19d79f4"
   },
   "outputs": [
    {
     "name": "stderr",
     "output_type": "stream",
     "text": [
      "100%|██████████| 196/196 [00:00<00:00, 936.32it/s]\n"
     ]
    }
   ],
   "source": [
    "for idx, row in tqdm(test.iterrows(), total = test.shape[0]):\n",
    "    date = row['transaction_date']\n",
    "    rate = interest_rate[interest_rate['날짜'] <= date].iloc[0]['금리']\n",
    "    test.loc[idx, 'interest_rate'] = rate"
   ]
  },
  {
   "cell_type": "code",
   "execution_count": 85,
   "metadata": {
    "id": "8rl3AjznVoE-"
   },
   "outputs": [],
   "source": [
    "train['transaction_day']=train['transaction_day'].map(lambda x: int(x))\n",
    "train = train.drop('transaction_date',axis  = 1)\n",
    "test = test.drop('transaction_date',axis  = 1)"
   ]
  },
  {
   "cell_type": "code",
   "execution_count": 87,
   "metadata": {
    "id": "fTeJYYmUVoE-"
   },
   "outputs": [],
   "source": [
    "school_latlon = pd.read_csv('전국초중등학교위치표준데이터.csv', encoding = 'cp949')\n",
    "school=school_latlon[school_latlon['교육지원청명']=='서울특별시강남서초교육지원청']"
   ]
  },
  {
   "cell_type": "code",
   "execution_count": 88,
   "metadata": {
    "id": "o7XM0PuFVoE-"
   },
   "outputs": [],
   "source": [
    "train['school_dist']=0\n",
    "test['school_dist']=0"
   ]
  },
  {
   "cell_type": "code",
   "execution_count": 89,
   "metadata": {
    "id": "ugTAu6npVoE-"
   },
   "outputs": [],
   "source": [
    "for i in range(len(train)):\n",
    "  distance=[]\n",
    "  for j in range(len(school)):\n",
    "    x1=train.iloc[i]['lat']\n",
    "    y1=train.iloc[i]['lon']\n",
    "    x2=school.iloc[j]['위도']\n",
    "    y2=school.iloc[j]['경도']\n",
    "    start = (x1,y1)\n",
    "    goal = (x2,y2)\n",
    "    r=haversine(start, goal)\n",
    "    distance.append(r)\n",
    "  train['school_dist'][i]=round(np.min(distance),5)"
   ]
  },
  {
   "cell_type": "code",
   "execution_count": 90,
   "metadata": {
    "id": "puimnj7gVoE-"
   },
   "outputs": [],
   "source": [
    "for i in range(len(test)):\n",
    "  distance=[]\n",
    "  for j in range(len(school)):\n",
    "    x1=test.iloc[i]['lat']\n",
    "    y1=test.iloc[i]['lon']\n",
    "    x2=school.iloc[j]['위도']\n",
    "    y2=school.iloc[j]['경도']\n",
    "    start = (x1,y1)\n",
    "    goal = (x2,y2)\n",
    "    r=haversine(start, goal)\n",
    "    distance.append(r)\n",
    "  test['school_dist'][i]=round(np.min(distance),5)"
   ]
  },
  {
   "cell_type": "code",
   "execution_count": 91,
   "metadata": {
    "id": "tNSJacPkVoE-"
   },
   "outputs": [],
   "source": [
    "# 학교가 가까운 정도에 따라 그룹으로 묶음\n",
    "def is_school_area(x):\n",
    "    if x <= 0.2:\n",
    "        return 3\n",
    "    elif x<=0.5:\n",
    "        return 2\n",
    "    elif x<=1.0:\n",
    "        return 1\n",
    "    else:\n",
    "        return 0\n",
    "train[\"school_rank\"] = train[\"school_dist\"].apply(lambda x: is_school_area(x))\n",
    "test[\"school_rank\"] = test[\"school_dist\"].apply(lambda x: is_school_area(x))"
   ]
  },
  {
   "cell_type": "markdown",
   "metadata": {
    "id": "E5OlKypYVoE_"
   },
   "source": [
    "#### 학군"
   ]
  },
  {
   "cell_type": "code",
   "execution_count": 92,
   "metadata": {
    "id": "GxV-jl9PVoE_"
   },
   "outputs": [],
   "source": [
    "hakgun_label=['서울고등학교',\n",
    "'경기고등학교',\n",
    "'휘문고등학교',\n",
    "'중동고등학교',\n",
    "'경기여자고등학교',\n",
    "'숙명여자고등학교',\n",
    "'풍문고등학교',\n",
    "'동덕여자고등학교',\n",
    "'서울세종고등학교',\n",
    "'개포고등학교',\n",
    "'단국대학교사범대학부속고등학교',\n",
    "'대진디자인고등학교',\n",
    "'반포고등학교',\n",
    "'서초고등학교',\n",
    "'상문고등학교',\n",
    "'세화고등학교',\n",
    "'세화여자고등학교',\n",
    "'서문여자고등학교',\n",
    "'양재고등학교',\n",
    "'영동고등학교',\n",
    "'은광여자고등학교',\n",
    "'압구정고등학교',\n",
    "'언남고등학교',\n",
    "'진선여자고등학교',\n",
    "'중산고등학교',\n",
    "'청담고등학교',\n",
    "'현대고등학교',\n",
    "'중앙대학교사범대학부속고등학교'\n",
    "]"
   ]
  },
  {
   "cell_type": "code",
   "execution_count": 93,
   "metadata": {
    "colab": {
     "base_uri": "https://localhost:8080/"
    },
    "id": "ahm8eK7CVoE_",
    "outputId": "ab42a11c-569c-4716-bc87-454d07dc937a"
   },
   "outputs": [
    {
     "data": {
      "text/plain": [
       "{'서울고등학교': [37.4842930566, 127.0049018608],\n",
       " '경기고등학교': [37.5175645399, 127.0560755056],\n",
       " '휘문고등학교': [37.5052894535, 127.0619938806],\n",
       " '중동고등학교': [37.4937145896, 127.080912228],\n",
       " '경기여자고등학교': [37.4869151626, 127.0654529919],\n",
       " '숙명여자고등학교': [37.4914753613, 127.0526125827],\n",
       " '풍문고등학교': [37.47135959, 127.099963434],\n",
       " '동덕여자고등학교': [37.47583666, 126.9919950374],\n",
       " '서울세종고등학교': [37.4903893469, 127.1027968129],\n",
       " '개포고등학교': [37.48495285, 127.0594065022],\n",
       " '단국대학교사범대학부속고등학교': [37.4956174948, 127.0577682282],\n",
       " '대진디자인고등학교': [37.4904281491, 127.0959793395],\n",
       " '반포고등학교': [37.5027027335, 127.0165603],\n",
       " '서초고등학교': [37.4896116868, 127.0053782497],\n",
       " '상문고등학교': [37.4797554325, 127.0039168196],\n",
       " '세화고등학교': [37.5019964569, 126.9942300138],\n",
       " '세화여자고등학교': [37.5019964569, 126.9942300138],\n",
       " '서문여자고등학교': [37.4889197255, 126.9845457593],\n",
       " '양재고등학교': [37.4824216431, 127.0320796253],\n",
       " '영동고등학교': [37.5213890143, 127.0437392587],\n",
       " '은광여자고등학교': [37.4883785724, 127.0352323611],\n",
       " '압구정고등학교': [37.5311339475, 127.0327116407],\n",
       " '언남고등학교': [37.4723300184, 127.0430052363],\n",
       " '진선여자고등학교': [37.502302892, 127.0482865654],\n",
       " '중산고등학교': [37.4857429318, 127.0814284922],\n",
       " '청담고등학교': [37.5280030162, 127.0437002433],\n",
       " '현대고등학교': [37.5254804993, 127.0223772985],\n",
       " '중앙대학교사범대학부속고등학교': [37.4919059044, 127.0521116125]}"
      ]
     },
     "execution_count": 93,
     "metadata": {},
     "output_type": "execute_result"
    }
   ],
   "source": [
    "hakgun={}\n",
    "for i in hakgun_label:\n",
    "  lat=float(school.loc[school['학교명']==i]['위도'].values)\n",
    "  lon=float(school.loc[school['학교명']==i]['경도'].values)\n",
    "  hakgun[i]=[lat,lon]\n",
    "hakgun"
   ]
  },
  {
   "cell_type": "code",
   "execution_count": 94,
   "metadata": {
    "id": "Jzq6EkqaVoE_"
   },
   "outputs": [],
   "source": [
    "hakgun=pd.DataFrame(hakgun).T\n",
    "hakgun.columns = ['lat', 'lon']"
   ]
  },
  {
   "cell_type": "code",
   "execution_count": 95,
   "metadata": {
    "id": "J6DJ8zv1VoE_"
   },
   "outputs": [],
   "source": [
    "train['hakgun_dist']=0\n",
    "test['hakgun_dist']=0"
   ]
  },
  {
   "cell_type": "code",
   "execution_count": 96,
   "metadata": {
    "id": "Yt0nTjE4VoE_"
   },
   "outputs": [],
   "source": [
    "for i in range(len(train)):\n",
    "  distance=[]\n",
    "  for j in range(len(hakgun)):\n",
    "    x1=train.iloc[i]['lat']\n",
    "    y1=train.iloc[i]['lon']\n",
    "    x2=hakgun.iloc[j]['lat']\n",
    "    y2=hakgun.iloc[j]['lon']\n",
    "    start = (x1,y1)\n",
    "    goal = (x2,y2)\n",
    "    r=haversine(start, goal)\n",
    "    distance.append(r)\n",
    "  train['hakgun_dist'][i]=round(np.min(distance),5)"
   ]
  },
  {
   "cell_type": "code",
   "execution_count": 97,
   "metadata": {
    "id": "hvDHa6MxVoE_"
   },
   "outputs": [],
   "source": [
    "for i in range(len(test)):\n",
    "  distance=[]\n",
    "  for j in range(len(hakgun)):\n",
    "    x1=test.iloc[i]['lat']\n",
    "    y1=test.iloc[i]['lon']\n",
    "    x2=hakgun.iloc[j]['lat']\n",
    "    y2=hakgun.iloc[j]['lon']\n",
    "    start = (x1,y1)\n",
    "    goal = (x2,y2)\n",
    "    r=haversine(start, goal)\n",
    "    distance.append(r)\n",
    "  test['hakgun_dist'][i]=round(np.min(distance),5)"
   ]
  },
  {
   "cell_type": "code",
   "execution_count": 98,
   "metadata": {
    "id": "u5DyIEwoVoE_"
   },
   "outputs": [],
   "source": [
    "# '명문 학교'에 가까운 정도에 따라 그룹핑\n",
    "\n",
    "def is_hakgun_area(x):\n",
    "    if x <= 0.2:   # 초 역세권\n",
    "        return 3\n",
    "    elif x<=0.5:   # 1차 역세권\n",
    "        return 2\n",
    "    elif x<=1.0:   # 2차 역세권\n",
    "        return 1\n",
    "    else:          # 비역세권\n",
    "        return 0\n",
    "train[\"hakgun_rank\"] = train[\"hakgun_dist\"].apply(lambda x: is_hakgun_area(x))\n",
    "test[\"hakgun_rank\"] = test[\"hakgun_dist\"].apply(lambda x: is_hakgun_area(x))"
   ]
  },
  {
   "cell_type": "markdown",
   "metadata": {
    "id": "oD5ywSNMVoFA"
   },
   "source": [
    "### 마트/백화점과의 거리"
   ]
  },
  {
   "cell_type": "code",
   "execution_count": 99,
   "metadata": {
    "id": "rMWn_NdUVoFA"
   },
   "outputs": [],
   "source": [
    "mart = pd.read_csv('서울시 강남구 대규모점포 인허가 정보.csv', encoding = 'cp949')"
   ]
  },
  {
   "cell_type": "code",
   "execution_count": 100,
   "metadata": {
    "colab": {
     "base_uri": "https://localhost:8080/",
     "height": 488
    },
    "id": "IWbK1Xk3VoFA",
    "outputId": "40deb0e2-cede-429c-aeaa-6d8c8ca3848b"
   },
   "outputs": [
    {
     "data": {
      "text/html": [
       "\n",
       "\n",
       "  <div id=\"df-6b37c98a-b0e9-4cb0-9f64-225f10e3ce41\">\n",
       "    <div class=\"colab-df-container\">\n",
       "      <div>\n",
       "<style scoped>\n",
       "    .dataframe tbody tr th:only-of-type {\n",
       "        vertical-align: middle;\n",
       "    }\n",
       "\n",
       "    .dataframe tbody tr th {\n",
       "        vertical-align: top;\n",
       "    }\n",
       "\n",
       "    .dataframe thead th {\n",
       "        text-align: right;\n",
       "    }\n",
       "</style>\n",
       "<table border=\"1\" class=\"dataframe\">\n",
       "  <thead>\n",
       "    <tr style=\"text-align: right;\">\n",
       "      <th></th>\n",
       "      <th>좌표정보(X)</th>\n",
       "      <th>좌표정보(Y)</th>\n",
       "    </tr>\n",
       "  </thead>\n",
       "  <tbody>\n",
       "    <tr>\n",
       "      <th>3</th>\n",
       "      <td>201757.494099</td>\n",
       "      <td>446282.454467</td>\n",
       "    </tr>\n",
       "    <tr>\n",
       "      <th>9</th>\n",
       "      <td>203604.761652</td>\n",
       "      <td>447316.222786</td>\n",
       "    </tr>\n",
       "    <tr>\n",
       "      <th>26</th>\n",
       "      <td>202358.505687</td>\n",
       "      <td>447232.955698</td>\n",
       "    </tr>\n",
       "    <tr>\n",
       "      <th>27</th>\n",
       "      <td>205210.358779</td>\n",
       "      <td>445154.422252</td>\n",
       "    </tr>\n",
       "    <tr>\n",
       "      <th>28</th>\n",
       "      <td>203470.848439</td>\n",
       "      <td>447369.579852</td>\n",
       "    </tr>\n",
       "    <tr>\n",
       "      <th>29</th>\n",
       "      <td>204669.543367</td>\n",
       "      <td>443873.621189</td>\n",
       "    </tr>\n",
       "    <tr>\n",
       "      <th>30</th>\n",
       "      <td>205314.159889</td>\n",
       "      <td>445204.709310</td>\n",
       "    </tr>\n",
       "    <tr>\n",
       "      <th>31</th>\n",
       "      <td>205130.591679</td>\n",
       "      <td>445590.096838</td>\n",
       "    </tr>\n",
       "    <tr>\n",
       "      <th>32</th>\n",
       "      <td>205340.631122</td>\n",
       "      <td>445354.571117</td>\n",
       "    </tr>\n",
       "    <tr>\n",
       "      <th>39</th>\n",
       "      <td>204213.643237</td>\n",
       "      <td>444113.028211</td>\n",
       "    </tr>\n",
       "    <tr>\n",
       "      <th>46</th>\n",
       "      <td>203789.588128</td>\n",
       "      <td>446796.128300</td>\n",
       "    </tr>\n",
       "    <tr>\n",
       "      <th>61</th>\n",
       "      <td>205359.898727</td>\n",
       "      <td>445864.805913</td>\n",
       "    </tr>\n",
       "    <tr>\n",
       "      <th>64</th>\n",
       "      <td>205170.959717</td>\n",
       "      <td>445264.936337</td>\n",
       "    </tr>\n",
       "    <tr>\n",
       "      <th>70</th>\n",
       "      <td>203069.441212</td>\n",
       "      <td>447391.130408</td>\n",
       "    </tr>\n",
       "  </tbody>\n",
       "</table>\n",
       "</div>\n",
       "      <button class=\"colab-df-convert\" onclick=\"convertToInteractive('df-6b37c98a-b0e9-4cb0-9f64-225f10e3ce41')\"\n",
       "              title=\"Convert this dataframe to an interactive table.\"\n",
       "              style=\"display:none;\">\n",
       "\n",
       "  <svg xmlns=\"http://www.w3.org/2000/svg\" height=\"24px\"viewBox=\"0 0 24 24\"\n",
       "       width=\"24px\">\n",
       "    <path d=\"M0 0h24v24H0V0z\" fill=\"none\"/>\n",
       "    <path d=\"M18.56 5.44l.94 2.06.94-2.06 2.06-.94-2.06-.94-.94-2.06-.94 2.06-2.06.94zm-11 1L8.5 8.5l.94-2.06 2.06-.94-2.06-.94L8.5 2.5l-.94 2.06-2.06.94zm10 10l.94 2.06.94-2.06 2.06-.94-2.06-.94-.94-2.06-.94 2.06-2.06.94z\"/><path d=\"M17.41 7.96l-1.37-1.37c-.4-.4-.92-.59-1.43-.59-.52 0-1.04.2-1.43.59L10.3 9.45l-7.72 7.72c-.78.78-.78 2.05 0 2.83L4 21.41c.39.39.9.59 1.41.59.51 0 1.02-.2 1.41-.59l7.78-7.78 2.81-2.81c.8-.78.8-2.07 0-2.86zM5.41 20L4 18.59l7.72-7.72 1.47 1.35L5.41 20z\"/>\n",
       "  </svg>\n",
       "      </button>\n",
       "\n",
       "\n",
       "\n",
       "    <div id=\"df-03f31583-157b-4f82-9bcd-39b479a450d0\">\n",
       "      <button class=\"colab-df-quickchart\" onclick=\"quickchart('df-03f31583-157b-4f82-9bcd-39b479a450d0')\"\n",
       "              title=\"Suggest charts.\"\n",
       "              style=\"display:none;\">\n",
       "\n",
       "<svg xmlns=\"http://www.w3.org/2000/svg\" height=\"24px\"viewBox=\"0 0 24 24\"\n",
       "     width=\"24px\">\n",
       "    <g>\n",
       "        <path d=\"M19 3H5c-1.1 0-2 .9-2 2v14c0 1.1.9 2 2 2h14c1.1 0 2-.9 2-2V5c0-1.1-.9-2-2-2zM9 17H7v-7h2v7zm4 0h-2V7h2v10zm4 0h-2v-4h2v4z\"/>\n",
       "    </g>\n",
       "</svg>\n",
       "      </button>\n",
       "    </div>\n",
       "\n",
       "<style>\n",
       "  .colab-df-quickchart {\n",
       "    background-color: #E8F0FE;\n",
       "    border: none;\n",
       "    border-radius: 50%;\n",
       "    cursor: pointer;\n",
       "    display: none;\n",
       "    fill: #1967D2;\n",
       "    height: 32px;\n",
       "    padding: 0 0 0 0;\n",
       "    width: 32px;\n",
       "  }\n",
       "\n",
       "  .colab-df-quickchart:hover {\n",
       "    background-color: #E2EBFA;\n",
       "    box-shadow: 0px 1px 2px rgba(60, 64, 67, 0.3), 0px 1px 3px 1px rgba(60, 64, 67, 0.15);\n",
       "    fill: #174EA6;\n",
       "  }\n",
       "\n",
       "  [theme=dark] .colab-df-quickchart {\n",
       "    background-color: #3B4455;\n",
       "    fill: #D2E3FC;\n",
       "  }\n",
       "\n",
       "  [theme=dark] .colab-df-quickchart:hover {\n",
       "    background-color: #434B5C;\n",
       "    box-shadow: 0px 1px 3px 1px rgba(0, 0, 0, 0.15);\n",
       "    filter: drop-shadow(0px 1px 2px rgba(0, 0, 0, 0.3));\n",
       "    fill: #FFFFFF;\n",
       "  }\n",
       "</style>\n",
       "\n",
       "    <script>\n",
       "      async function quickchart(key) {\n",
       "        const containerElement = document.querySelector('#' + key);\n",
       "        const charts = await google.colab.kernel.invokeFunction(\n",
       "            'suggestCharts', [key], {});\n",
       "      }\n",
       "    </script>\n",
       "\n",
       "      <script>\n",
       "\n",
       "function displayQuickchartButton(domScope) {\n",
       "  let quickchartButtonEl =\n",
       "    domScope.querySelector('#df-03f31583-157b-4f82-9bcd-39b479a450d0 button.colab-df-quickchart');\n",
       "  quickchartButtonEl.style.display =\n",
       "    google.colab.kernel.accessAllowed ? 'block' : 'none';\n",
       "}\n",
       "\n",
       "        displayQuickchartButton(document);\n",
       "      </script>\n",
       "      <style>\n",
       "    .colab-df-container {\n",
       "      display:flex;\n",
       "      flex-wrap:wrap;\n",
       "      gap: 12px;\n",
       "    }\n",
       "\n",
       "    .colab-df-convert {\n",
       "      background-color: #E8F0FE;\n",
       "      border: none;\n",
       "      border-radius: 50%;\n",
       "      cursor: pointer;\n",
       "      display: none;\n",
       "      fill: #1967D2;\n",
       "      height: 32px;\n",
       "      padding: 0 0 0 0;\n",
       "      width: 32px;\n",
       "    }\n",
       "\n",
       "    .colab-df-convert:hover {\n",
       "      background-color: #E2EBFA;\n",
       "      box-shadow: 0px 1px 2px rgba(60, 64, 67, 0.3), 0px 1px 3px 1px rgba(60, 64, 67, 0.15);\n",
       "      fill: #174EA6;\n",
       "    }\n",
       "\n",
       "    [theme=dark] .colab-df-convert {\n",
       "      background-color: #3B4455;\n",
       "      fill: #D2E3FC;\n",
       "    }\n",
       "\n",
       "    [theme=dark] .colab-df-convert:hover {\n",
       "      background-color: #434B5C;\n",
       "      box-shadow: 0px 1px 3px 1px rgba(0, 0, 0, 0.15);\n",
       "      filter: drop-shadow(0px 1px 2px rgba(0, 0, 0, 0.3));\n",
       "      fill: #FFFFFF;\n",
       "    }\n",
       "  </style>\n",
       "\n",
       "      <script>\n",
       "        const buttonEl =\n",
       "          document.querySelector('#df-6b37c98a-b0e9-4cb0-9f64-225f10e3ce41 button.colab-df-convert');\n",
       "        buttonEl.style.display =\n",
       "          google.colab.kernel.accessAllowed ? 'block' : 'none';\n",
       "\n",
       "        async function convertToInteractive(key) {\n",
       "          const element = document.querySelector('#df-6b37c98a-b0e9-4cb0-9f64-225f10e3ce41');\n",
       "          const dataTable =\n",
       "            await google.colab.kernel.invokeFunction('convertToInteractive',\n",
       "                                                     [key], {});\n",
       "          if (!dataTable) return;\n",
       "\n",
       "          const docLinkHtml = 'Like what you see? Visit the ' +\n",
       "            '<a target=\"_blank\" href=https://colab.research.google.com/notebooks/data_table.ipynb>data table notebook</a>'\n",
       "            + ' to learn more about interactive tables.';\n",
       "          element.innerHTML = '';\n",
       "          dataTable['output_type'] = 'display_data';\n",
       "          await google.colab.output.renderOutput(dataTable, element);\n",
       "          const docLink = document.createElement('div');\n",
       "          docLink.innerHTML = docLinkHtml;\n",
       "          element.appendChild(docLink);\n",
       "        }\n",
       "      </script>\n",
       "    </div>\n",
       "  </div>\n"
      ],
      "text/plain": [
       "          좌표정보(X)        좌표정보(Y)\n",
       "3   201757.494099  446282.454467\n",
       "9   203604.761652  447316.222786\n",
       "26  202358.505687  447232.955698\n",
       "27  205210.358779  445154.422252\n",
       "28  203470.848439  447369.579852\n",
       "29  204669.543367  443873.621189\n",
       "30  205314.159889  445204.709310\n",
       "31  205130.591679  445590.096838\n",
       "32  205340.631122  445354.571117\n",
       "39  204213.643237  444113.028211\n",
       "46  203789.588128  446796.128300\n",
       "61  205359.898727  445864.805913\n",
       "64  205170.959717  445264.936337\n",
       "70  203069.441212  447391.130408"
      ]
     },
     "execution_count": 100,
     "metadata": {},
     "output_type": "execute_result"
    }
   ],
   "source": [
    "mart2=mart[mart['영업상태명']=='영업/정상']\n",
    "mart3=mart2[mart2['점포구분명']!='준대규모점포']\n",
    "mart3=mart3[mart2['업태구분명']!='그 밖의 대규모점포']\n",
    "mart4=mart3[mart3['좌표정보(X)'].notnull()]\n",
    "mart5=mart4.drop_duplicates(['좌표정보(X)'])\n",
    "mart6=mart5[['좌표정보(X)','좌표정보(Y)']]\n",
    "mart6"
   ]
  },
  {
   "cell_type": "code",
   "execution_count": 101,
   "metadata": {
    "id": "EDwkX7W1VoFA"
   },
   "outputs": [],
   "source": [
    "import pandas as pd\n",
    "import numpy as np\n",
    "import pyproj\n",
    "import folium"
   ]
  },
  {
   "cell_type": "code",
   "execution_count": 102,
   "metadata": {
    "id": "Ui1YkQymVoFA"
   },
   "outputs": [],
   "source": [
    "def project_array(coord, p1_type, p2_type):\n",
    "    \"\"\"\n",
    "    좌표계 변환 함수\n",
    "    - coord: x, y 좌표 정보가 담긴 NumPy Array\n",
    "    - p1_type: 입력 좌표계 정보 ex) epsg:5179\n",
    "    - p2_type: 출력 좌표계 정보 ex) epsg:4326\n",
    "    \"\"\"\n",
    "    p1 = pyproj.Proj(init=p1_type)\n",
    "    p2 = pyproj.Proj(init=p2_type)\n",
    "    fx, fy = pyproj.transform(p1, p2, coord[:, 0], coord[:, 1])\n",
    "    return np.dstack([fx, fy])[0]"
   ]
  },
  {
   "cell_type": "code",
   "execution_count": 103,
   "metadata": {
    "id": "-32_sgqYVoFA"
   },
   "outputs": [],
   "source": [
    "coord = np.array(mart6)"
   ]
  },
  {
   "cell_type": "code",
   "execution_count": 104,
   "metadata": {
    "id": "S-8Koj72VoFA"
   },
   "outputs": [],
   "source": [
    "p1_type = \"epsg:2097\"\n",
    "p2_type = \"epsg:4326\"\n",
    "\n",
    "# project_array() 함수 실행\n",
    "result = project_array(coord, p1_type, p2_type)"
   ]
  },
  {
   "cell_type": "code",
   "execution_count": 105,
   "metadata": {
    "colab": {
     "base_uri": "https://localhost:8080/",
     "height": 488
    },
    "id": "aaogY5H6VoFB",
    "outputId": "211085ee-2edf-4662-aae2-2d92e3fe2c74"
   },
   "outputs": [
    {
     "data": {
      "text/html": [
       "\n",
       "\n",
       "  <div id=\"df-419505b7-6ae0-4e4e-b8a9-bc5fd4ece46c\">\n",
       "    <div class=\"colab-df-container\">\n",
       "      <div>\n",
       "<style scoped>\n",
       "    .dataframe tbody tr th:only-of-type {\n",
       "        vertical-align: middle;\n",
       "    }\n",
       "\n",
       "    .dataframe tbody tr th {\n",
       "        vertical-align: top;\n",
       "    }\n",
       "\n",
       "    .dataframe thead th {\n",
       "        text-align: right;\n",
       "    }\n",
       "</style>\n",
       "<table border=\"1\" class=\"dataframe\">\n",
       "  <thead>\n",
       "    <tr style=\"text-align: right;\">\n",
       "      <th></th>\n",
       "      <th>사업장명</th>\n",
       "      <th>lat</th>\n",
       "      <th>lon</th>\n",
       "    </tr>\n",
       "  </thead>\n",
       "  <tbody>\n",
       "    <tr>\n",
       "      <th>3</th>\n",
       "      <td>강남시장</td>\n",
       "      <td>37.518672</td>\n",
       "      <td>127.020679</td>\n",
       "    </tr>\n",
       "    <tr>\n",
       "      <th>9</th>\n",
       "      <td>갤러리아백화점(동관)</td>\n",
       "      <td>37.527981</td>\n",
       "      <td>127.041579</td>\n",
       "    </tr>\n",
       "    <tr>\n",
       "      <th>26</th>\n",
       "      <td>(주)현대백화점 본점</td>\n",
       "      <td>37.527234</td>\n",
       "      <td>127.027480</td>\n",
       "    </tr>\n",
       "    <tr>\n",
       "      <th>27</th>\n",
       "      <td>현대백화점 무역센터점</td>\n",
       "      <td>37.508495</td>\n",
       "      <td>127.059728</td>\n",
       "    </tr>\n",
       "    <tr>\n",
       "      <th>28</th>\n",
       "      <td>갤러리아백화점(서관)</td>\n",
       "      <td>37.528462</td>\n",
       "      <td>127.040065</td>\n",
       "    </tr>\n",
       "    <tr>\n",
       "      <th>29</th>\n",
       "      <td>롯데백화점(강남점)</td>\n",
       "      <td>37.496958</td>\n",
       "      <td>127.053604</td>\n",
       "    </tr>\n",
       "    <tr>\n",
       "      <th>30</th>\n",
       "      <td>파르나스몰(PARNAS MALL)</td>\n",
       "      <td>37.508948</td>\n",
       "      <td>127.060903</td>\n",
       "    </tr>\n",
       "    <tr>\n",
       "      <th>31</th>\n",
       "      <td>코엑스 호텔아케이드</td>\n",
       "      <td>37.512421</td>\n",
       "      <td>127.058829</td>\n",
       "    </tr>\n",
       "    <tr>\n",
       "      <th>32</th>\n",
       "      <td>코엑스 몰</td>\n",
       "      <td>37.510298</td>\n",
       "      <td>127.061203</td>\n",
       "    </tr>\n",
       "    <tr>\n",
       "      <th>39</th>\n",
       "      <td>(주)이마트 역삼점</td>\n",
       "      <td>37.499117</td>\n",
       "      <td>127.048450</td>\n",
       "    </tr>\n",
       "    <tr>\n",
       "      <th>46</th>\n",
       "      <td>SSG Food Market 백화점</td>\n",
       "      <td>37.523294</td>\n",
       "      <td>127.043668</td>\n",
       "    </tr>\n",
       "    <tr>\n",
       "      <th>61</th>\n",
       "      <td>롯데슈퍼 코엑스점</td>\n",
       "      <td>37.514895</td>\n",
       "      <td>127.061425</td>\n",
       "    </tr>\n",
       "    <tr>\n",
       "      <th>64</th>\n",
       "      <td>도심공항몰(CALT MALL)</td>\n",
       "      <td>37.509491</td>\n",
       "      <td>127.059284</td>\n",
       "    </tr>\n",
       "    <tr>\n",
       "      <th>70</th>\n",
       "      <td>GS THE FRESH 압구정점</td>\n",
       "      <td>37.528657</td>\n",
       "      <td>127.035523</td>\n",
       "    </tr>\n",
       "  </tbody>\n",
       "</table>\n",
       "</div>\n",
       "      <button class=\"colab-df-convert\" onclick=\"convertToInteractive('df-419505b7-6ae0-4e4e-b8a9-bc5fd4ece46c')\"\n",
       "              title=\"Convert this dataframe to an interactive table.\"\n",
       "              style=\"display:none;\">\n",
       "\n",
       "  <svg xmlns=\"http://www.w3.org/2000/svg\" height=\"24px\"viewBox=\"0 0 24 24\"\n",
       "       width=\"24px\">\n",
       "    <path d=\"M0 0h24v24H0V0z\" fill=\"none\"/>\n",
       "    <path d=\"M18.56 5.44l.94 2.06.94-2.06 2.06-.94-2.06-.94-.94-2.06-.94 2.06-2.06.94zm-11 1L8.5 8.5l.94-2.06 2.06-.94-2.06-.94L8.5 2.5l-.94 2.06-2.06.94zm10 10l.94 2.06.94-2.06 2.06-.94-2.06-.94-.94-2.06-.94 2.06-2.06.94z\"/><path d=\"M17.41 7.96l-1.37-1.37c-.4-.4-.92-.59-1.43-.59-.52 0-1.04.2-1.43.59L10.3 9.45l-7.72 7.72c-.78.78-.78 2.05 0 2.83L4 21.41c.39.39.9.59 1.41.59.51 0 1.02-.2 1.41-.59l7.78-7.78 2.81-2.81c.8-.78.8-2.07 0-2.86zM5.41 20L4 18.59l7.72-7.72 1.47 1.35L5.41 20z\"/>\n",
       "  </svg>\n",
       "      </button>\n",
       "\n",
       "\n",
       "\n",
       "    <div id=\"df-4f2082a3-d2bd-41f4-937d-284686467a60\">\n",
       "      <button class=\"colab-df-quickchart\" onclick=\"quickchart('df-4f2082a3-d2bd-41f4-937d-284686467a60')\"\n",
       "              title=\"Suggest charts.\"\n",
       "              style=\"display:none;\">\n",
       "\n",
       "<svg xmlns=\"http://www.w3.org/2000/svg\" height=\"24px\"viewBox=\"0 0 24 24\"\n",
       "     width=\"24px\">\n",
       "    <g>\n",
       "        <path d=\"M19 3H5c-1.1 0-2 .9-2 2v14c0 1.1.9 2 2 2h14c1.1 0 2-.9 2-2V5c0-1.1-.9-2-2-2zM9 17H7v-7h2v7zm4 0h-2V7h2v10zm4 0h-2v-4h2v4z\"/>\n",
       "    </g>\n",
       "</svg>\n",
       "      </button>\n",
       "    </div>\n",
       "\n",
       "<style>\n",
       "  .colab-df-quickchart {\n",
       "    background-color: #E8F0FE;\n",
       "    border: none;\n",
       "    border-radius: 50%;\n",
       "    cursor: pointer;\n",
       "    display: none;\n",
       "    fill: #1967D2;\n",
       "    height: 32px;\n",
       "    padding: 0 0 0 0;\n",
       "    width: 32px;\n",
       "  }\n",
       "\n",
       "  .colab-df-quickchart:hover {\n",
       "    background-color: #E2EBFA;\n",
       "    box-shadow: 0px 1px 2px rgba(60, 64, 67, 0.3), 0px 1px 3px 1px rgba(60, 64, 67, 0.15);\n",
       "    fill: #174EA6;\n",
       "  }\n",
       "\n",
       "  [theme=dark] .colab-df-quickchart {\n",
       "    background-color: #3B4455;\n",
       "    fill: #D2E3FC;\n",
       "  }\n",
       "\n",
       "  [theme=dark] .colab-df-quickchart:hover {\n",
       "    background-color: #434B5C;\n",
       "    box-shadow: 0px 1px 3px 1px rgba(0, 0, 0, 0.15);\n",
       "    filter: drop-shadow(0px 1px 2px rgba(0, 0, 0, 0.3));\n",
       "    fill: #FFFFFF;\n",
       "  }\n",
       "</style>\n",
       "\n",
       "    <script>\n",
       "      async function quickchart(key) {\n",
       "        const containerElement = document.querySelector('#' + key);\n",
       "        const charts = await google.colab.kernel.invokeFunction(\n",
       "            'suggestCharts', [key], {});\n",
       "      }\n",
       "    </script>\n",
       "\n",
       "      <script>\n",
       "\n",
       "function displayQuickchartButton(domScope) {\n",
       "  let quickchartButtonEl =\n",
       "    domScope.querySelector('#df-4f2082a3-d2bd-41f4-937d-284686467a60 button.colab-df-quickchart');\n",
       "  quickchartButtonEl.style.display =\n",
       "    google.colab.kernel.accessAllowed ? 'block' : 'none';\n",
       "}\n",
       "\n",
       "        displayQuickchartButton(document);\n",
       "      </script>\n",
       "      <style>\n",
       "    .colab-df-container {\n",
       "      display:flex;\n",
       "      flex-wrap:wrap;\n",
       "      gap: 12px;\n",
       "    }\n",
       "\n",
       "    .colab-df-convert {\n",
       "      background-color: #E8F0FE;\n",
       "      border: none;\n",
       "      border-radius: 50%;\n",
       "      cursor: pointer;\n",
       "      display: none;\n",
       "      fill: #1967D2;\n",
       "      height: 32px;\n",
       "      padding: 0 0 0 0;\n",
       "      width: 32px;\n",
       "    }\n",
       "\n",
       "    .colab-df-convert:hover {\n",
       "      background-color: #E2EBFA;\n",
       "      box-shadow: 0px 1px 2px rgba(60, 64, 67, 0.3), 0px 1px 3px 1px rgba(60, 64, 67, 0.15);\n",
       "      fill: #174EA6;\n",
       "    }\n",
       "\n",
       "    [theme=dark] .colab-df-convert {\n",
       "      background-color: #3B4455;\n",
       "      fill: #D2E3FC;\n",
       "    }\n",
       "\n",
       "    [theme=dark] .colab-df-convert:hover {\n",
       "      background-color: #434B5C;\n",
       "      box-shadow: 0px 1px 3px 1px rgba(0, 0, 0, 0.15);\n",
       "      filter: drop-shadow(0px 1px 2px rgba(0, 0, 0, 0.3));\n",
       "      fill: #FFFFFF;\n",
       "    }\n",
       "  </style>\n",
       "\n",
       "      <script>\n",
       "        const buttonEl =\n",
       "          document.querySelector('#df-419505b7-6ae0-4e4e-b8a9-bc5fd4ece46c button.colab-df-convert');\n",
       "        buttonEl.style.display =\n",
       "          google.colab.kernel.accessAllowed ? 'block' : 'none';\n",
       "\n",
       "        async function convertToInteractive(key) {\n",
       "          const element = document.querySelector('#df-419505b7-6ae0-4e4e-b8a9-bc5fd4ece46c');\n",
       "          const dataTable =\n",
       "            await google.colab.kernel.invokeFunction('convertToInteractive',\n",
       "                                                     [key], {});\n",
       "          if (!dataTable) return;\n",
       "\n",
       "          const docLinkHtml = 'Like what you see? Visit the ' +\n",
       "            '<a target=\"_blank\" href=https://colab.research.google.com/notebooks/data_table.ipynb>data table notebook</a>'\n",
       "            + ' to learn more about interactive tables.';\n",
       "          element.innerHTML = '';\n",
       "          dataTable['output_type'] = 'display_data';\n",
       "          await google.colab.output.renderOutput(dataTable, element);\n",
       "          const docLink = document.createElement('div');\n",
       "          docLink.innerHTML = docLinkHtml;\n",
       "          element.appendChild(docLink);\n",
       "        }\n",
       "      </script>\n",
       "    </div>\n",
       "  </div>\n"
      ],
      "text/plain": [
       "                   사업장명        lat         lon\n",
       "3                  강남시장  37.518672  127.020679\n",
       "9           갤러리아백화점(동관)  37.527981  127.041579\n",
       "26          (주)현대백화점 본점  37.527234  127.027480\n",
       "27          현대백화점 무역센터점  37.508495  127.059728\n",
       "28          갤러리아백화점(서관)  37.528462  127.040065\n",
       "29           롯데백화점(강남점)  37.496958  127.053604\n",
       "30   파르나스몰(PARNAS MALL)  37.508948  127.060903\n",
       "31           코엑스 호텔아케이드  37.512421  127.058829\n",
       "32                코엑스 몰  37.510298  127.061203\n",
       "39           (주)이마트 역삼점  37.499117  127.048450\n",
       "46  SSG Food Market 백화점  37.523294  127.043668\n",
       "61            롯데슈퍼 코엑스점  37.514895  127.061425\n",
       "64     도심공항몰(CALT MALL)  37.509491  127.059284\n",
       "70    GS THE FRESH 압구정점  37.528657  127.035523"
      ]
     },
     "execution_count": 105,
     "metadata": {},
     "output_type": "execute_result"
    }
   ],
   "source": [
    "mart6['lat'] = result[:, 1]\n",
    "mart6['lon'] = result[:, 0]\n",
    "mart6['사업장명']=mart5['사업장명']\n",
    "mart6['lat']=mart6['lat'].map(lambda x: x-0.0001)\n",
    "mart6['lon']=mart6['lon'].map(lambda x: x+0.0029)\n",
    "mart_dict=mart6[['사업장명','lat','lon']]\n",
    "mart_dict"
   ]
  },
  {
   "cell_type": "code",
   "execution_count": 106,
   "metadata": {
    "id": "7gzcIlIyVoFB"
   },
   "outputs": [],
   "source": [
    "train['mart_dict']=0\n",
    "test['mart_dict']=0"
   ]
  },
  {
   "cell_type": "code",
   "execution_count": 107,
   "metadata": {
    "id": "iJgxEDBGVoFB"
   },
   "outputs": [],
   "source": [
    "for i in range(len(train)):\n",
    "  distance=[]\n",
    "  for j in range(len(mart_dict)):\n",
    "    x1=train.iloc[i]['lat']\n",
    "    y1=train.iloc[i]['lon']\n",
    "    x2=mart_dict.iloc[j]['lat']\n",
    "    y2=mart_dict.iloc[j]['lon']\n",
    "    start = (x1,y1)\n",
    "    goal = (x2,y2)\n",
    "    r=haversine(start, goal)\n",
    "    distance.append(r)\n",
    "  train['mart_dict'][i]=round(np.min(distance),5)"
   ]
  },
  {
   "cell_type": "code",
   "execution_count": 108,
   "metadata": {
    "id": "xWcBaRBQVoFB"
   },
   "outputs": [],
   "source": [
    "for i in range(len(test)):\n",
    "  distance=[]\n",
    "  for j in range(len(mart_dict)):\n",
    "    x1=test.iloc[i]['lat']\n",
    "    y1=test.iloc[i]['lon']\n",
    "    x2=mart_dict.iloc[j]['lat']\n",
    "    y2=mart_dict.iloc[j]['lon']\n",
    "    start = (x1,y1)\n",
    "    goal = (x2,y2)\n",
    "    r=haversine(start, goal)\n",
    "    distance.append(r)\n",
    "  test['mart_dict'][i]=round(np.min(distance),5)"
   ]
  },
  {
   "cell_type": "code",
   "execution_count": 109,
   "metadata": {
    "id": "jNllGuE_VoFB"
   },
   "outputs": [],
   "source": [
    "train.to_csv('train_feature6.csv', index=False)\n",
    "test.to_csv('test_feature6.csv', index=False)"
   ]
  },
  {
   "cell_type": "markdown",
   "metadata": {
    "id": "prCr63g4xLCe"
   },
   "source": [
    "### 트레인 feature 추가버전에서 인덱스, 시군구, 지번, 아파트이름, 거래일 column 제거"
   ]
  },
  {
   "cell_type": "code",
   "execution_count": 111,
   "metadata": {
    "id": "fSnTKW0dpTWm"
   },
   "outputs": [],
   "source": [
    "import pandas as pd\n",
    "\n",
    "# CSV 파일로부터 데이터를 불러옴\n",
    "df = pd.read_csv('./train_feature6.csv')\n",
    "\n",
    "# 데이터프레임의 첫 5행을 표시함\n",
    "df.head()\n",
    "\n",
    "# 지정된 열을 제거함\n",
    "df = df.drop(['index', 'sigungu', 'jibun', 'apt_name', 'transaction_day'], axis=1)\n",
    "\n",
    "# 수정된 데이터프레임을 CSV 파일로 저장함\n",
    "df.to_csv('./train_feature6.csv', index=False)\n",
    "\n",
    "# CSV 파일로부터 테스트 데이터를 불러옴\n",
    "df_test = pd.read_csv('./test_feature6.csv')\n",
    "\n",
    "# 테스트 데이터에서 지정된 열을 제거함\n",
    "df_test = df_test.drop(['sigungu', 'jibun', 'apt_name', 'transaction_day'], axis=1)\n",
    "\n",
    "# 수정된 데이터프레임을 CSV 파일로 저장함\n",
    "df_test.to_csv('./test_feature6.csv', index=False)\n",
    "\n"
   ]
  },
  {
   "cell_type": "markdown",
   "metadata": {
    "id": "Ar9SJD9cxY6W"
   },
   "source": [
    "### XGBoost"
   ]
  },
  {
   "cell_type": "code",
   "execution_count": 116,
   "metadata": {
    "id": "uzc64C3yuJ1w"
   },
   "outputs": [],
   "source": [
    "import pandas as pd\n",
    "from sklearn.model_selection import train_test_split\n",
    "from sklearn.metrics import mean_absolute_error\n",
    "import xgboost as xgb\n",
    "\n",
    "# 훈련 데이터를 불러옵니다\n",
    "df_train = pd.read_csv('./train_feature6.csv')\n",
    "\n",
    "# 데이터를 입력 특징(X)과 목표 변수(y)로 나눕니다\n",
    "X = df_train.drop(['id', 'transaction_real_price'], axis=1)\n",
    "y = df_train['transaction_real_price']\n",
    "\n",
    "# 데이터를 훈련 세트와 검증 세트로 나눕니다\n",
    "X_train, X_val, y_train, y_val = train_test_split(X, y, test_size=0.2, random_state=42)\n",
    "\n",
    "# XGBoost Regressor 모델을 생성하고 훈련 데이터에 적합시킵니다\n",
    "xgb_model = xgb.XGBRegressor(n_estimators=100, learning_rate=0.08, gamma=0, subsample=0.75, colsample_bytree=1, max_depth=7, random_state=42)\n",
    "xgb_model.fit(X_train, y_train)\n",
    "\n",
    "# 훈련된 모델을 사용해 검증 세트의 실제 거래 가격을 예측합니다\n",
    "y_val_pred_xgb = xgb_model.predict(X_val)\n",
    "\n",
    "# 예측의 평균 절대 오차(MAE)를 계산합니다\n",
    "mae_xgb = mean_absolute_error(y_val, y_val_pred_xgb)\n",
    "\n",
    "# 테스트 데이터를 불러오고 그 특징을 훈련 데이터와 일치하도록 재정렬합니다\n",
    "df_test = pd.read_csv('./test_feature6.csv')\n",
    "df_test_reordered = df_test[['id'] + X.columns.tolist()]\n",
    "\n",
    "# 훈련된 모델을 사용해 테스트 데이터의 실제 거래 가격을 예측합니다\n",
    "y_test_pred_xgb = xgb_model.predict(df_test_reordered.drop(['id'], axis=1))\n",
    "\n",
    "# 예측된 가격을 테스트 데이터프레임에 추가합니다\n",
    "df_test['transaction_real_price'] = y_test_pred_xgb\n",
    "\n",
    "# 'id'로 데이터프레임을 정렬합니다\n",
    "df_test_sorted = df_test.sort_values(by='id')\n",
    "\n",
    "# 예측된 가격을 CSV 파일로 저장합니다\n",
    "df_final_xgb = df_test_sorted[['id', 'transaction_real_price']]\n",
    "df_final_xgb.to_csv('./submission0802xgb.csv', index=False)"
   ]
  }
 ],
 "metadata": {
  "colab": {
   "provenance": []
  },
  "kernelspec": {
   "display_name": "Python 3",
   "language": "python",
   "name": "python3"
  },
  "language_info": {
   "codemirror_mode": {
    "name": "ipython",
    "version": 3
   },
   "file_extension": ".py",
   "mimetype": "text/x-python",
   "name": "python",
   "nbconvert_exporter": "python",
   "pygments_lexer": "ipython3",
   "version": "3.8.5"
  },
  "toc": {
   "base_numbering": 1,
   "nav_menu": {},
   "number_sections": true,
   "sideBar": true,
   "skip_h1_title": false,
   "title_cell": "Table of Contents",
   "title_sidebar": "Contents",
   "toc_cell": false,
   "toc_position": {},
   "toc_section_display": true,
   "toc_window_display": false
  },
  "varInspector": {
   "cols": {
    "lenName": 16,
    "lenType": 16,
    "lenVar": 40
   },
   "kernels_config": {
    "python": {
     "delete_cmd_postfix": "",
     "delete_cmd_prefix": "del ",
     "library": "var_list.py",
     "varRefreshCmd": "print(var_dic_list())"
    },
    "r": {
     "delete_cmd_postfix": ") ",
     "delete_cmd_prefix": "rm(",
     "library": "var_list.r",
     "varRefreshCmd": "cat(var_dic_list()) "
    }
   },
   "types_to_exclude": [
    "module",
    "function",
    "builtin_function_or_method",
    "instance",
    "_Feature"
   ],
   "window_display": false
  }
 },
 "nbformat": 4,
 "nbformat_minor": 5
}
